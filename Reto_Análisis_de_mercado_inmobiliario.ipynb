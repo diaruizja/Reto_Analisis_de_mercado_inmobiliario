{
  "nbformat": 4,
  "nbformat_minor": 0,
  "metadata": {
    "colab": {
      "name": " Reto_Análisis de mercado inmobiliario.ipynb",
      "provenance": [],
      "collapsed_sections": [],
      "include_colab_link": true
    },
    "kernelspec": {
      "display_name": "Python 3",
      "language": "python",
      "name": "python3"
    },
    "language_info": {
      "codemirror_mode": {
        "name": "ipython",
        "version": 3
      },
      "file_extension": ".py",
      "mimetype": "text/x-python",
      "name": "python",
      "nbconvert_exporter": "python",
      "pygments_lexer": "ipython3",
      "version": "3.7.6"
    },
    "accelerator": "GPU"
  },
  "cells": [
    {
      "cell_type": "markdown",
      "metadata": {
        "id": "view-in-github",
        "colab_type": "text"
      },
      "source": [
        "<a href=\"https://colab.research.google.com/github/diaruizja/Reto_Analisis_de_mercado_inmobiliario/blob/master/Reto_An%C3%A1lisis_de_mercado_inmobiliario.ipynb\" target=\"_parent\"><img src=\"https://colab.research.google.com/assets/colab-badge.svg\" alt=\"Open In Colab\"/></a>"
      ]
    },
    {
      "cell_type": "markdown",
      "metadata": {
        "colab_type": "text",
        "id": "38tA-ErIC4OD"
      },
      "source": [
        "# Prueba técnica: Análisis de mercado inmobiliario\n",
        "\n",
        "El objetivo es reproducir los pasos qude un Data Scientist cuando se enfrenta a una problemática real. Por eso, consta de tres secciones:\n",
        "* En la Parte 1, te presentamos la problemática sobre la cual vas a trabajar. En esta sección deberás decidir qué datos te ayudarán a trabajar en este problema y dónde puedes conseguirlos.\n",
        "* En la Parte 2 te proveemos de un dataset para abordar la problemática planteada. Deberás realizar un Análisis Exploratorio de Datos sobre este dataset.\n",
        "* En la Parte 3, deberás utilizar herramientas de Machine Learning para predecir la variable de interés.\n",
        "\n",
        "\n",
        "En este proyecto vas a trabajar con un dataset de propiedades en venta publicado en el portal [Properati](www.properati.com.ar).\n",
        "\n",
        "## Problema\n",
        "\n",
        "Recientemente te has incorporado al equipo de Datos de una gran inmobiliaria. La primera tarea que se te asigna es ayudar a los tasadores/as a valuar las propiedades, ya que es un proceso difícil y, a veces, subjetivo. Para ello, propones crear un modelo de Machine Learning que, dadas ciertas características de la propiedad, prediga su precio de venta.\n",
        "\n",
        "# 1. Pensando como un/a Data Scientist\n",
        "\n",
        "Responde la siguientes pregunta:\n",
        "1. ¿Qué datos crees que te ayudarían a trabajar en el problema?¿Por qué?\n",
        "\n",
        "**Importante**: NO deberás buscar esos datos, solamente justificar qué información crees que te ayudaría a resolver la problemática planteada."
      ]
    },
    {
      "cell_type": "markdown",
      "metadata": {
        "id": "hCpzW3oZWgse",
        "colab_type": "text"
      },
      "source": [
        "**Respuesta**: para este problema es importante entender que el objetivo a analizar es la prediccion del precio de un nuevo inmueble. Para lo cual es importante tener en cuenta que la variable target (objetivo) a predecir sera el campo de \"price\", por tanto, los datos que mas me ayudarian a trabajar en este problema o a predecir el campo \"price\" serian las variables predictoras que hacen referencia a \"surface_total\" y \"price_per_m2\"(esta ultima variable no se encuentra dentro del dataset, la cual se debe calcular a partir de los datos que se tienen) como principales variables. Ya que estas son por lo general las caracteristicas principales que se toman en cuenta para inicialmente valorar el precio de un inmueble.\n",
        "\n",
        "El resto de las categorias presentes en el dataset serviran para refinar el modelo de Machine Learning, el cual a partir de estos datos aprendera mas facil y se equipara mejor para la prediccion de precios a partir de datos nuevos."
      ]
    },
    {
      "cell_type": "markdown",
      "metadata": {
        "id": "ytqcT1V7Khz6",
        "colab_type": "text"
      },
      "source": [
        "# 2. Análisis Exploratorio de Datos\n",
        "\n",
        "En esta sección, debes realizar un Análisis Exploratorio de Datos sobre el dataset de propiedades de Properati. Nos interesa que predigas el precio de una nueva propiedad de la ciudad\n"
      ]
    },
    {
      "cell_type": "markdown",
      "metadata": {
        "id": "1wPocpb1D25o",
        "colab_type": "text"
      },
      "source": [
        "Para iniciar con la solucion de este trabajo, es importante mencionar que todo el flujo de trabajo estara basado en la metodología CRISP-DM, la cual consta de los siguientes pasos:\n",
        "\n",
        "1.   Entendimiento del problema\n",
        "2.   Exploración de los datos\n",
        "3.   Transformación y selección de caracteristicas\n",
        "4.   Modelado (Machine Learning) \n"
      ]
    },
    {
      "cell_type": "code",
      "metadata": {
        "id": "iTMT8zknIEeQ",
        "colab_type": "code",
        "colab": {
          "base_uri": "https://localhost:8080/",
          "height": 122
        },
        "outputId": "0fe8917c-6e5f-42f8-dbb5-d7ae03610256"
      },
      "source": [
        "from google.colab import drive\n",
        "drive.mount('/content/drive')"
      ],
      "execution_count": null,
      "outputs": [
        {
          "output_type": "stream",
          "text": [
            "Go to this URL in a browser: https://accounts.google.com/o/oauth2/auth?client_id=947318989803-6bn6qk8qdgf4n4g3pfee6491hc0brc4i.apps.googleusercontent.com&redirect_uri=urn%3aietf%3awg%3aoauth%3a2.0%3aoob&scope=email%20https%3a%2f%2fwww.googleapis.com%2fauth%2fdocs.test%20https%3a%2f%2fwww.googleapis.com%2fauth%2fdrive%20https%3a%2f%2fwww.googleapis.com%2fauth%2fdrive.photos.readonly%20https%3a%2f%2fwww.googleapis.com%2fauth%2fpeopleapi.readonly&response_type=code\n",
            "\n",
            "Enter your authorization code:\n",
            "··········\n",
            "Mounted at /content/drive\n"
          ],
          "name": "stdout"
        }
      ]
    },
    {
      "cell_type": "markdown",
      "metadata": {
        "id": "hj-sTcR4ZqSl",
        "colab_type": "text"
      },
      "source": [
        "**Antes de iniciar con el flujo de trabajo es necesario importar las principales librerias para la correcta exploración del Dataset**"
      ]
    },
    {
      "cell_type": "code",
      "metadata": {
        "id": "gxUzO_4fIQxG",
        "colab_type": "code",
        "colab": {
          "base_uri": "https://localhost:8080/",
          "height": 71
        },
        "outputId": "0e2a21ca-ad07-45ff-a654-1eae238bb5c6"
      },
      "source": [
        "import pandas as pd\n",
        "import numpy as np\n",
        "import matplotlib.pyplot as plt\n",
        "import seaborn as sns\n",
        "sns.set()"
      ],
      "execution_count": null,
      "outputs": [
        {
          "output_type": "stream",
          "text": [
            "/usr/local/lib/python3.6/dist-packages/statsmodels/tools/_testing.py:19: FutureWarning: pandas.util.testing is deprecated. Use the functions in the public API at pandas.testing instead.\n",
            "  import pandas.util.testing as tm\n"
          ],
          "name": "stderr"
        }
      ]
    },
    {
      "cell_type": "markdown",
      "metadata": {
        "id": "lpfdD7eCaP67",
        "colab_type": "text"
      },
      "source": [
        "**Se carga la data para iniciar con el análisis**\n"
      ]
    },
    {
      "cell_type": "code",
      "metadata": {
        "id": "iaHr7R6FIgsf",
        "colab_type": "code",
        "colab": {
          "base_uri": "https://localhost:8080/",
          "height": 366
        },
        "outputId": "4a0325d3-e8d8-4d13-d901-08e3deebfc61"
      },
      "source": [
        "df=pd.read_csv(\"/content/drive/My Drive/Colab Notebooks/DS_Proyecto_01_Datos_Properati_2.csv\")\n",
        "df.head(3)"
      ],
      "execution_count": null,
      "outputs": [
        {
          "output_type": "execute_result",
          "data": {
            "text/html": [
              "<div>\n",
              "<style scoped>\n",
              "    .dataframe tbody tr th:only-of-type {\n",
              "        vertical-align: middle;\n",
              "    }\n",
              "\n",
              "    .dataframe tbody tr th {\n",
              "        vertical-align: top;\n",
              "    }\n",
              "\n",
              "    .dataframe thead th {\n",
              "        text-align: right;\n",
              "    }\n",
              "</style>\n",
              "<table border=\"1\" class=\"dataframe\">\n",
              "  <thead>\n",
              "    <tr style=\"text-align: right;\">\n",
              "      <th></th>\n",
              "      <th>start_date</th>\n",
              "      <th>end_date</th>\n",
              "      <th>created_on</th>\n",
              "      <th>lat</th>\n",
              "      <th>lon</th>\n",
              "      <th>l1</th>\n",
              "      <th>l2</th>\n",
              "      <th>l3</th>\n",
              "      <th>rooms</th>\n",
              "      <th>bedrooms</th>\n",
              "      <th>bathrooms</th>\n",
              "      <th>surface_total</th>\n",
              "      <th>surface_covered</th>\n",
              "      <th>price</th>\n",
              "      <th>currency</th>\n",
              "      <th>title</th>\n",
              "      <th>description</th>\n",
              "      <th>property_type</th>\n",
              "      <th>operation_type</th>\n",
              "    </tr>\n",
              "  </thead>\n",
              "  <tbody>\n",
              "    <tr>\n",
              "      <th>0</th>\n",
              "      <td>2019-10-17</td>\n",
              "      <td>2019-12-23</td>\n",
              "      <td>2019-10-17</td>\n",
              "      <td>-34.605880</td>\n",
              "      <td>-58.384949</td>\n",
              "      <td>Argentina</td>\n",
              "      <td>Capital Federal</td>\n",
              "      <td>San Cristobal</td>\n",
              "      <td>7.0</td>\n",
              "      <td>7.0</td>\n",
              "      <td>2.0</td>\n",
              "      <td>140.0</td>\n",
              "      <td>140.0</td>\n",
              "      <td>153000.0</td>\n",
              "      <td>USD</td>\n",
              "      <td>***Venta semipiso centro, ideal hostel*****</td>\n",
              "      <td>DESCRIPCION DE LA PROPIEDAD: Departamento de 1...</td>\n",
              "      <td>Departamento</td>\n",
              "      <td>Venta</td>\n",
              "    </tr>\n",
              "    <tr>\n",
              "      <th>1</th>\n",
              "      <td>2019-10-17</td>\n",
              "      <td>2019-11-21</td>\n",
              "      <td>2019-10-17</td>\n",
              "      <td>-34.624056</td>\n",
              "      <td>-58.412110</td>\n",
              "      <td>Argentina</td>\n",
              "      <td>Capital Federal</td>\n",
              "      <td>Boedo</td>\n",
              "      <td>2.0</td>\n",
              "      <td>1.0</td>\n",
              "      <td>2.0</td>\n",
              "      <td>70.0</td>\n",
              "      <td>58.0</td>\n",
              "      <td>159000.0</td>\n",
              "      <td>USD</td>\n",
              "      <td>Espectacular PH reciclado en Boedo sin expensas.</td>\n",
              "      <td>PH reciclado en Boedo a una cuadra de la plaz...</td>\n",
              "      <td>PH</td>\n",
              "      <td>Venta</td>\n",
              "    </tr>\n",
              "    <tr>\n",
              "      <th>2</th>\n",
              "      <td>2019-10-17</td>\n",
              "      <td>2019-11-01</td>\n",
              "      <td>2019-10-17</td>\n",
              "      <td>-34.593569</td>\n",
              "      <td>-58.427474</td>\n",
              "      <td>Argentina</td>\n",
              "      <td>Capital Federal</td>\n",
              "      <td>Palermo</td>\n",
              "      <td>2.0</td>\n",
              "      <td>1.0</td>\n",
              "      <td>1.0</td>\n",
              "      <td>45.0</td>\n",
              "      <td>45.0</td>\n",
              "      <td>125000.0</td>\n",
              "      <td>USD</td>\n",
              "      <td>Depto.tipo casa de 2 ambientes en Venta en Pal...</td>\n",
              "      <td>2 ambienets amplio , excelente estado , patio ...</td>\n",
              "      <td>PH</td>\n",
              "      <td>Venta</td>\n",
              "    </tr>\n",
              "  </tbody>\n",
              "</table>\n",
              "</div>"
            ],
            "text/plain": [
              "   start_date    end_date  ... property_type  operation_type\n",
              "0  2019-10-17  2019-12-23  ...  Departamento           Venta\n",
              "1  2019-10-17  2019-11-21  ...            PH           Venta\n",
              "2  2019-10-17  2019-11-01  ...            PH           Venta\n",
              "\n",
              "[3 rows x 19 columns]"
            ]
          },
          "metadata": {
            "tags": []
          },
          "execution_count": 3
        }
      ]
    },
    {
      "cell_type": "code",
      "metadata": {
        "id": "kGy6K5OjDuSf",
        "colab_type": "code",
        "colab": {
          "base_uri": "https://localhost:8080/",
          "height": 34
        },
        "outputId": "115c1ad8-5cab-425f-b29a-b7b455cb49f5"
      },
      "source": [
        "df.shape"
      ],
      "execution_count": null,
      "outputs": [
        {
          "output_type": "execute_result",
          "data": {
            "text/plain": [
              "(146660, 19)"
            ]
          },
          "metadata": {
            "tags": []
          },
          "execution_count": 4
        }
      ]
    },
    {
      "cell_type": "markdown",
      "metadata": {
        "id": "Myg57akkhJzk",
        "colab_type": "text"
      },
      "source": [
        "***Se eliminan algunas columnas que de entrada no nos aportan para el modelo ***"
      ]
    },
    {
      "cell_type": "code",
      "metadata": {
        "id": "pVdyOg3iI9l9",
        "colab_type": "code",
        "colab": {
          "base_uri": "https://localhost:8080/",
          "height": 366
        },
        "outputId": "ee0385da-2ad7-4ef5-a4e9-8cd6ea3a34a0"
      },
      "source": [
        "df=df.drop(columns=[\"start_date\", \"end_date\",\"created_on\"])\n",
        "df.head(3)"
      ],
      "execution_count": null,
      "outputs": [
        {
          "output_type": "execute_result",
          "data": {
            "text/html": [
              "<div>\n",
              "<style scoped>\n",
              "    .dataframe tbody tr th:only-of-type {\n",
              "        vertical-align: middle;\n",
              "    }\n",
              "\n",
              "    .dataframe tbody tr th {\n",
              "        vertical-align: top;\n",
              "    }\n",
              "\n",
              "    .dataframe thead th {\n",
              "        text-align: right;\n",
              "    }\n",
              "</style>\n",
              "<table border=\"1\" class=\"dataframe\">\n",
              "  <thead>\n",
              "    <tr style=\"text-align: right;\">\n",
              "      <th></th>\n",
              "      <th>lat</th>\n",
              "      <th>lon</th>\n",
              "      <th>l1</th>\n",
              "      <th>l2</th>\n",
              "      <th>l3</th>\n",
              "      <th>rooms</th>\n",
              "      <th>bedrooms</th>\n",
              "      <th>bathrooms</th>\n",
              "      <th>surface_total</th>\n",
              "      <th>surface_covered</th>\n",
              "      <th>price</th>\n",
              "      <th>currency</th>\n",
              "      <th>title</th>\n",
              "      <th>description</th>\n",
              "      <th>property_type</th>\n",
              "      <th>operation_type</th>\n",
              "    </tr>\n",
              "  </thead>\n",
              "  <tbody>\n",
              "    <tr>\n",
              "      <th>0</th>\n",
              "      <td>-34.605880</td>\n",
              "      <td>-58.384949</td>\n",
              "      <td>Argentina</td>\n",
              "      <td>Capital Federal</td>\n",
              "      <td>San Cristobal</td>\n",
              "      <td>7.0</td>\n",
              "      <td>7.0</td>\n",
              "      <td>2.0</td>\n",
              "      <td>140.0</td>\n",
              "      <td>140.0</td>\n",
              "      <td>153000.0</td>\n",
              "      <td>USD</td>\n",
              "      <td>***Venta semipiso centro, ideal hostel*****</td>\n",
              "      <td>DESCRIPCION DE LA PROPIEDAD: Departamento de 1...</td>\n",
              "      <td>Departamento</td>\n",
              "      <td>Venta</td>\n",
              "    </tr>\n",
              "    <tr>\n",
              "      <th>1</th>\n",
              "      <td>-34.624056</td>\n",
              "      <td>-58.412110</td>\n",
              "      <td>Argentina</td>\n",
              "      <td>Capital Federal</td>\n",
              "      <td>Boedo</td>\n",
              "      <td>2.0</td>\n",
              "      <td>1.0</td>\n",
              "      <td>2.0</td>\n",
              "      <td>70.0</td>\n",
              "      <td>58.0</td>\n",
              "      <td>159000.0</td>\n",
              "      <td>USD</td>\n",
              "      <td>Espectacular PH reciclado en Boedo sin expensas.</td>\n",
              "      <td>PH reciclado en Boedo a una cuadra de la plaz...</td>\n",
              "      <td>PH</td>\n",
              "      <td>Venta</td>\n",
              "    </tr>\n",
              "    <tr>\n",
              "      <th>2</th>\n",
              "      <td>-34.593569</td>\n",
              "      <td>-58.427474</td>\n",
              "      <td>Argentina</td>\n",
              "      <td>Capital Federal</td>\n",
              "      <td>Palermo</td>\n",
              "      <td>2.0</td>\n",
              "      <td>1.0</td>\n",
              "      <td>1.0</td>\n",
              "      <td>45.0</td>\n",
              "      <td>45.0</td>\n",
              "      <td>125000.0</td>\n",
              "      <td>USD</td>\n",
              "      <td>Depto.tipo casa de 2 ambientes en Venta en Pal...</td>\n",
              "      <td>2 ambienets amplio , excelente estado , patio ...</td>\n",
              "      <td>PH</td>\n",
              "      <td>Venta</td>\n",
              "    </tr>\n",
              "  </tbody>\n",
              "</table>\n",
              "</div>"
            ],
            "text/plain": [
              "         lat        lon  ... property_type operation_type\n",
              "0 -34.605880 -58.384949  ...  Departamento          Venta\n",
              "1 -34.624056 -58.412110  ...            PH          Venta\n",
              "2 -34.593569 -58.427474  ...            PH          Venta\n",
              "\n",
              "[3 rows x 16 columns]"
            ]
          },
          "metadata": {
            "tags": []
          },
          "execution_count": 5
        }
      ]
    },
    {
      "cell_type": "markdown",
      "metadata": {
        "id": "iFab4LGXh85C",
        "colab_type": "text"
      },
      "source": [
        "**Se realiza una exploracion de la data y sus principales caracteristicas**"
      ]
    },
    {
      "cell_type": "code",
      "metadata": {
        "id": "4HiW6ExaTwJe",
        "colab_type": "code",
        "colab": {
          "base_uri": "https://localhost:8080/",
          "height": 408
        },
        "outputId": "f6105236-f89a-4e1c-cd53-8f696312f257"
      },
      "source": [
        "df.info()"
      ],
      "execution_count": null,
      "outputs": [
        {
          "output_type": "stream",
          "text": [
            "<class 'pandas.core.frame.DataFrame'>\n",
            "RangeIndex: 146660 entries, 0 to 146659\n",
            "Data columns (total 16 columns):\n",
            " #   Column           Non-Null Count   Dtype  \n",
            "---  ------           --------------   -----  \n",
            " 0   lat              136735 non-null  float64\n",
            " 1   lon              136701 non-null  float64\n",
            " 2   l1               146660 non-null  object \n",
            " 3   l2               146660 non-null  object \n",
            " 4   l3               146660 non-null  object \n",
            " 5   rooms            146660 non-null  float64\n",
            " 6   bedrooms         146660 non-null  float64\n",
            " 7   bathrooms        140703 non-null  float64\n",
            " 8   surface_total    126133 non-null  float64\n",
            " 9   surface_covered  125046 non-null  float64\n",
            " 10  price            146660 non-null  float64\n",
            " 11  currency         146660 non-null  object \n",
            " 12  title            146660 non-null  object \n",
            " 13  description      146660 non-null  object \n",
            " 14  property_type    146660 non-null  object \n",
            " 15  operation_type   146660 non-null  object \n",
            "dtypes: float64(8), object(8)\n",
            "memory usage: 17.9+ MB\n"
          ],
          "name": "stdout"
        }
      ]
    },
    {
      "cell_type": "markdown",
      "metadata": {
        "id": "A3h9JMQBhMab",
        "colab_type": "text"
      },
      "source": [
        "**Se crea una matriz de correlacion para ver como se comportan las diferentes variables predictoras entre si y tomar desiciones de dropeo inicial**"
      ]
    },
    {
      "cell_type": "code",
      "metadata": {
        "id": "kifZu1ewgmbW",
        "colab_type": "code",
        "colab": {
          "base_uri": "https://localhost:8080/",
          "height": 208
        },
        "outputId": "cec9e248-973c-4434-f9cc-73242bfe2e96"
      },
      "source": [
        "corr = df.corr() \n",
        "corr.style.background_gradient(cmap='coolwarm')"
      ],
      "execution_count": null,
      "outputs": [
        {
          "output_type": "execute_result",
          "data": {
            "text/html": [
              "<style  type=\"text/css\" >\n",
              "    #T_50388b26_ed2d_11ea_8130_0242ac1c0002row0_col0 {\n",
              "            background-color:  #b40426;\n",
              "            color:  #f1f1f1;\n",
              "        }    #T_50388b26_ed2d_11ea_8130_0242ac1c0002row0_col1 {\n",
              "            background-color:  #3b4cc0;\n",
              "            color:  #f1f1f1;\n",
              "        }    #T_50388b26_ed2d_11ea_8130_0242ac1c0002row0_col2 {\n",
              "            background-color:  #3b4cc0;\n",
              "            color:  #f1f1f1;\n",
              "        }    #T_50388b26_ed2d_11ea_8130_0242ac1c0002row0_col3 {\n",
              "            background-color:  #4257c9;\n",
              "            color:  #f1f1f1;\n",
              "        }    #T_50388b26_ed2d_11ea_8130_0242ac1c0002row0_col4 {\n",
              "            background-color:  #4961d2;\n",
              "            color:  #f1f1f1;\n",
              "        }    #T_50388b26_ed2d_11ea_8130_0242ac1c0002row0_col5 {\n",
              "            background-color:  #4358cb;\n",
              "            color:  #f1f1f1;\n",
              "        }    #T_50388b26_ed2d_11ea_8130_0242ac1c0002row0_col6 {\n",
              "            background-color:  #3d50c3;\n",
              "            color:  #f1f1f1;\n",
              "        }    #T_50388b26_ed2d_11ea_8130_0242ac1c0002row0_col7 {\n",
              "            background-color:  #3c4ec2;\n",
              "            color:  #f1f1f1;\n",
              "        }    #T_50388b26_ed2d_11ea_8130_0242ac1c0002row1_col0 {\n",
              "            background-color:  #3b4cc0;\n",
              "            color:  #f1f1f1;\n",
              "        }    #T_50388b26_ed2d_11ea_8130_0242ac1c0002row1_col1 {\n",
              "            background-color:  #b40426;\n",
              "            color:  #f1f1f1;\n",
              "        }    #T_50388b26_ed2d_11ea_8130_0242ac1c0002row1_col2 {\n",
              "            background-color:  #3c4ec2;\n",
              "            color:  #f1f1f1;\n",
              "        }    #T_50388b26_ed2d_11ea_8130_0242ac1c0002row1_col3 {\n",
              "            background-color:  #3b4cc0;\n",
              "            color:  #f1f1f1;\n",
              "        }    #T_50388b26_ed2d_11ea_8130_0242ac1c0002row1_col4 {\n",
              "            background-color:  #3b4cc0;\n",
              "            color:  #f1f1f1;\n",
              "        }    #T_50388b26_ed2d_11ea_8130_0242ac1c0002row1_col5 {\n",
              "            background-color:  #3b4cc0;\n",
              "            color:  #f1f1f1;\n",
              "        }    #T_50388b26_ed2d_11ea_8130_0242ac1c0002row1_col6 {\n",
              "            background-color:  #3b4cc0;\n",
              "            color:  #f1f1f1;\n",
              "        }    #T_50388b26_ed2d_11ea_8130_0242ac1c0002row1_col7 {\n",
              "            background-color:  #3b4cc0;\n",
              "            color:  #f1f1f1;\n",
              "        }    #T_50388b26_ed2d_11ea_8130_0242ac1c0002row2_col0 {\n",
              "            background-color:  #dadce0;\n",
              "            color:  #000000;\n",
              "        }    #T_50388b26_ed2d_11ea_8130_0242ac1c0002row2_col1 {\n",
              "            background-color:  #dadce0;\n",
              "            color:  #000000;\n",
              "        }    #T_50388b26_ed2d_11ea_8130_0242ac1c0002row2_col2 {\n",
              "            background-color:  #b40426;\n",
              "            color:  #f1f1f1;\n",
              "        }    #T_50388b26_ed2d_11ea_8130_0242ac1c0002row2_col3 {\n",
              "            background-color:  #de614d;\n",
              "            color:  #000000;\n",
              "        }    #T_50388b26_ed2d_11ea_8130_0242ac1c0002row2_col4 {\n",
              "            background-color:  #f4c5ad;\n",
              "            color:  #000000;\n",
              "        }    #T_50388b26_ed2d_11ea_8130_0242ac1c0002row2_col5 {\n",
              "            background-color:  #6180e9;\n",
              "            color:  #000000;\n",
              "        }    #T_50388b26_ed2d_11ea_8130_0242ac1c0002row2_col6 {\n",
              "            background-color:  #5572df;\n",
              "            color:  #000000;\n",
              "        }    #T_50388b26_ed2d_11ea_8130_0242ac1c0002row2_col7 {\n",
              "            background-color:  #aec9fc;\n",
              "            color:  #000000;\n",
              "        }    #T_50388b26_ed2d_11ea_8130_0242ac1c0002row3_col0 {\n",
              "            background-color:  #dcdddd;\n",
              "            color:  #000000;\n",
              "        }    #T_50388b26_ed2d_11ea_8130_0242ac1c0002row3_col1 {\n",
              "            background-color:  #d9dce1;\n",
              "            color:  #000000;\n",
              "        }    #T_50388b26_ed2d_11ea_8130_0242ac1c0002row3_col2 {\n",
              "            background-color:  #de614d;\n",
              "            color:  #000000;\n",
              "        }    #T_50388b26_ed2d_11ea_8130_0242ac1c0002row3_col3 {\n",
              "            background-color:  #b40426;\n",
              "            color:  #f1f1f1;\n",
              "        }    #T_50388b26_ed2d_11ea_8130_0242ac1c0002row3_col4 {\n",
              "            background-color:  #f2cbb7;\n",
              "            color:  #000000;\n",
              "        }    #T_50388b26_ed2d_11ea_8130_0242ac1c0002row3_col5 {\n",
              "            background-color:  #6180e9;\n",
              "            color:  #000000;\n",
              "        }    #T_50388b26_ed2d_11ea_8130_0242ac1c0002row3_col6 {\n",
              "            background-color:  #5470de;\n",
              "            color:  #000000;\n",
              "        }    #T_50388b26_ed2d_11ea_8130_0242ac1c0002row3_col7 {\n",
              "            background-color:  #a2c1ff;\n",
              "            color:  #000000;\n",
              "        }    #T_50388b26_ed2d_11ea_8130_0242ac1c0002row4_col0 {\n",
              "            background-color:  #dddcdc;\n",
              "            color:  #000000;\n",
              "        }    #T_50388b26_ed2d_11ea_8130_0242ac1c0002row4_col1 {\n",
              "            background-color:  #d7dce3;\n",
              "            color:  #000000;\n",
              "        }    #T_50388b26_ed2d_11ea_8130_0242ac1c0002row4_col2 {\n",
              "            background-color:  #f4c6af;\n",
              "            color:  #000000;\n",
              "        }    #T_50388b26_ed2d_11ea_8130_0242ac1c0002row4_col3 {\n",
              "            background-color:  #f1ccb8;\n",
              "            color:  #000000;\n",
              "        }    #T_50388b26_ed2d_11ea_8130_0242ac1c0002row4_col4 {\n",
              "            background-color:  #b40426;\n",
              "            color:  #f1f1f1;\n",
              "        }    #T_50388b26_ed2d_11ea_8130_0242ac1c0002row4_col5 {\n",
              "            background-color:  #5a78e4;\n",
              "            color:  #000000;\n",
              "        }    #T_50388b26_ed2d_11ea_8130_0242ac1c0002row4_col6 {\n",
              "            background-color:  #5470de;\n",
              "            color:  #000000;\n",
              "        }    #T_50388b26_ed2d_11ea_8130_0242ac1c0002row4_col7 {\n",
              "            background-color:  #ead5c9;\n",
              "            color:  #000000;\n",
              "        }    #T_50388b26_ed2d_11ea_8130_0242ac1c0002row5_col0 {\n",
              "            background-color:  #d8dce2;\n",
              "            color:  #000000;\n",
              "        }    #T_50388b26_ed2d_11ea_8130_0242ac1c0002row5_col1 {\n",
              "            background-color:  #d5dbe5;\n",
              "            color:  #000000;\n",
              "        }    #T_50388b26_ed2d_11ea_8130_0242ac1c0002row5_col2 {\n",
              "            background-color:  #5673e0;\n",
              "            color:  #000000;\n",
              "        }    #T_50388b26_ed2d_11ea_8130_0242ac1c0002row5_col3 {\n",
              "            background-color:  #5875e1;\n",
              "            color:  #000000;\n",
              "        }    #T_50388b26_ed2d_11ea_8130_0242ac1c0002row5_col4 {\n",
              "            background-color:  #5572df;\n",
              "            color:  #000000;\n",
              "        }    #T_50388b26_ed2d_11ea_8130_0242ac1c0002row5_col5 {\n",
              "            background-color:  #b40426;\n",
              "            color:  #f1f1f1;\n",
              "        }    #T_50388b26_ed2d_11ea_8130_0242ac1c0002row5_col6 {\n",
              "            background-color:  #ccd9ed;\n",
              "            color:  #000000;\n",
              "        }    #T_50388b26_ed2d_11ea_8130_0242ac1c0002row5_col7 {\n",
              "            background-color:  #4358cb;\n",
              "            color:  #f1f1f1;\n",
              "        }    #T_50388b26_ed2d_11ea_8130_0242ac1c0002row6_col0 {\n",
              "            background-color:  #dadce0;\n",
              "            color:  #000000;\n",
              "        }    #T_50388b26_ed2d_11ea_8130_0242ac1c0002row6_col1 {\n",
              "            background-color:  #d9dce1;\n",
              "            color:  #000000;\n",
              "        }    #T_50388b26_ed2d_11ea_8130_0242ac1c0002row6_col2 {\n",
              "            background-color:  #5470de;\n",
              "            color:  #000000;\n",
              "        }    #T_50388b26_ed2d_11ea_8130_0242ac1c0002row6_col3 {\n",
              "            background-color:  #5572df;\n",
              "            color:  #000000;\n",
              "        }    #T_50388b26_ed2d_11ea_8130_0242ac1c0002row6_col4 {\n",
              "            background-color:  #5875e1;\n",
              "            color:  #000000;\n",
              "        }    #T_50388b26_ed2d_11ea_8130_0242ac1c0002row6_col5 {\n",
              "            background-color:  #d2dbe8;\n",
              "            color:  #000000;\n",
              "        }    #T_50388b26_ed2d_11ea_8130_0242ac1c0002row6_col6 {\n",
              "            background-color:  #b40426;\n",
              "            color:  #f1f1f1;\n",
              "        }    #T_50388b26_ed2d_11ea_8130_0242ac1c0002row6_col7 {\n",
              "            background-color:  #465ecf;\n",
              "            color:  #f1f1f1;\n",
              "        }    #T_50388b26_ed2d_11ea_8130_0242ac1c0002row7_col0 {\n",
              "            background-color:  #dddcdc;\n",
              "            color:  #000000;\n",
              "        }    #T_50388b26_ed2d_11ea_8130_0242ac1c0002row7_col1 {\n",
              "            background-color:  #dcdddd;\n",
              "            color:  #000000;\n",
              "        }    #T_50388b26_ed2d_11ea_8130_0242ac1c0002row7_col2 {\n",
              "            background-color:  #b2ccfb;\n",
              "            color:  #000000;\n",
              "        }    #T_50388b26_ed2d_11ea_8130_0242ac1c0002row7_col3 {\n",
              "            background-color:  #a7c5fe;\n",
              "            color:  #000000;\n",
              "        }    #T_50388b26_ed2d_11ea_8130_0242ac1c0002row7_col4 {\n",
              "            background-color:  #edd2c3;\n",
              "            color:  #000000;\n",
              "        }    #T_50388b26_ed2d_11ea_8130_0242ac1c0002row7_col5 {\n",
              "            background-color:  #5470de;\n",
              "            color:  #000000;\n",
              "        }    #T_50388b26_ed2d_11ea_8130_0242ac1c0002row7_col6 {\n",
              "            background-color:  #4e68d8;\n",
              "            color:  #000000;\n",
              "        }    #T_50388b26_ed2d_11ea_8130_0242ac1c0002row7_col7 {\n",
              "            background-color:  #b40426;\n",
              "            color:  #f1f1f1;\n",
              "        }</style><table id=\"T_50388b26_ed2d_11ea_8130_0242ac1c0002\" ><thead>    <tr>        <th class=\"blank level0\" ></th>        <th class=\"col_heading level0 col0\" >lat</th>        <th class=\"col_heading level0 col1\" >lon</th>        <th class=\"col_heading level0 col2\" >rooms</th>        <th class=\"col_heading level0 col3\" >bedrooms</th>        <th class=\"col_heading level0 col4\" >bathrooms</th>        <th class=\"col_heading level0 col5\" >surface_total</th>        <th class=\"col_heading level0 col6\" >surface_covered</th>        <th class=\"col_heading level0 col7\" >price</th>    </tr></thead><tbody>\n",
              "                <tr>\n",
              "                        <th id=\"T_50388b26_ed2d_11ea_8130_0242ac1c0002level0_row0\" class=\"row_heading level0 row0\" >lat</th>\n",
              "                        <td id=\"T_50388b26_ed2d_11ea_8130_0242ac1c0002row0_col0\" class=\"data row0 col0\" >1.000000</td>\n",
              "                        <td id=\"T_50388b26_ed2d_11ea_8130_0242ac1c0002row0_col1\" class=\"data row0 col1\" >-0.975578</td>\n",
              "                        <td id=\"T_50388b26_ed2d_11ea_8130_0242ac1c0002row0_col2\" class=\"data row0 col2\" >-0.010933</td>\n",
              "                        <td id=\"T_50388b26_ed2d_11ea_8130_0242ac1c0002row0_col3\" class=\"data row0 col3\" >0.007618</td>\n",
              "                        <td id=\"T_50388b26_ed2d_11ea_8130_0242ac1c0002row0_col4\" class=\"data row0 col4\" >0.019923</td>\n",
              "                        <td id=\"T_50388b26_ed2d_11ea_8130_0242ac1c0002row0_col5\" class=\"data row0 col5\" >-0.019598</td>\n",
              "                        <td id=\"T_50388b26_ed2d_11ea_8130_0242ac1c0002row0_col6\" class=\"data row0 col6\" >-0.004156</td>\n",
              "                        <td id=\"T_50388b26_ed2d_11ea_8130_0242ac1c0002row0_col7\" class=\"data row0 col7\" >0.013393</td>\n",
              "            </tr>\n",
              "            <tr>\n",
              "                        <th id=\"T_50388b26_ed2d_11ea_8130_0242ac1c0002level0_row1\" class=\"row_heading level0 row1\" >lon</th>\n",
              "                        <td id=\"T_50388b26_ed2d_11ea_8130_0242ac1c0002row1_col0\" class=\"data row1 col0\" >-0.975578</td>\n",
              "                        <td id=\"T_50388b26_ed2d_11ea_8130_0242ac1c0002row1_col1\" class=\"data row1 col1\" >1.000000</td>\n",
              "                        <td id=\"T_50388b26_ed2d_11ea_8130_0242ac1c0002row1_col2\" class=\"data row1 col2\" >-0.006931</td>\n",
              "                        <td id=\"T_50388b26_ed2d_11ea_8130_0242ac1c0002row1_col3\" class=\"data row1 col3\" >-0.016905</td>\n",
              "                        <td id=\"T_50388b26_ed2d_11ea_8130_0242ac1c0002row1_col4\" class=\"data row1 col4\" >-0.028612</td>\n",
              "                        <td id=\"T_50388b26_ed2d_11ea_8130_0242ac1c0002row1_col5\" class=\"data row1 col5\" >-0.049097</td>\n",
              "                        <td id=\"T_50388b26_ed2d_11ea_8130_0242ac1c0002row1_col6\" class=\"data row1 col6\" >-0.014388</td>\n",
              "                        <td id=\"T_50388b26_ed2d_11ea_8130_0242ac1c0002row1_col7\" class=\"data row1 col7\" >0.009368</td>\n",
              "            </tr>\n",
              "            <tr>\n",
              "                        <th id=\"T_50388b26_ed2d_11ea_8130_0242ac1c0002level0_row2\" class=\"row_heading level0 row2\" >rooms</th>\n",
              "                        <td id=\"T_50388b26_ed2d_11ea_8130_0242ac1c0002row2_col0\" class=\"data row2 col0\" >-0.010933</td>\n",
              "                        <td id=\"T_50388b26_ed2d_11ea_8130_0242ac1c0002row2_col1\" class=\"data row2 col1\" >-0.006931</td>\n",
              "                        <td id=\"T_50388b26_ed2d_11ea_8130_0242ac1c0002row2_col2\" class=\"data row2 col2\" >1.000000</td>\n",
              "                        <td id=\"T_50388b26_ed2d_11ea_8130_0242ac1c0002row2_col3\" class=\"data row2 col3\" >0.869769</td>\n",
              "                        <td id=\"T_50388b26_ed2d_11ea_8130_0242ac1c0002row2_col4\" class=\"data row2 col4\" >0.613308</td>\n",
              "                        <td id=\"T_50388b26_ed2d_11ea_8130_0242ac1c0002row2_col5\" class=\"data row2 col5\" >0.081044</td>\n",
              "                        <td id=\"T_50388b26_ed2d_11ea_8130_0242ac1c0002row2_col6\" class=\"data row2 col6\" >0.075012</td>\n",
              "                        <td id=\"T_50388b26_ed2d_11ea_8130_0242ac1c0002row2_col7\" class=\"data row2 col7\" >0.351025</td>\n",
              "            </tr>\n",
              "            <tr>\n",
              "                        <th id=\"T_50388b26_ed2d_11ea_8130_0242ac1c0002level0_row3\" class=\"row_heading level0 row3\" >bedrooms</th>\n",
              "                        <td id=\"T_50388b26_ed2d_11ea_8130_0242ac1c0002row3_col0\" class=\"data row3 col0\" >0.007618</td>\n",
              "                        <td id=\"T_50388b26_ed2d_11ea_8130_0242ac1c0002row3_col1\" class=\"data row3 col1\" >-0.016905</td>\n",
              "                        <td id=\"T_50388b26_ed2d_11ea_8130_0242ac1c0002row3_col2\" class=\"data row3 col2\" >0.869769</td>\n",
              "                        <td id=\"T_50388b26_ed2d_11ea_8130_0242ac1c0002row3_col3\" class=\"data row3 col3\" >1.000000</td>\n",
              "                        <td id=\"T_50388b26_ed2d_11ea_8130_0242ac1c0002row3_col4\" class=\"data row3 col4\" >0.588527</td>\n",
              "                        <td id=\"T_50388b26_ed2d_11ea_8130_0242ac1c0002row3_col5\" class=\"data row3 col5\" >0.079229</td>\n",
              "                        <td id=\"T_50388b26_ed2d_11ea_8130_0242ac1c0002row3_col6\" class=\"data row3 col6\" >0.072627</td>\n",
              "                        <td id=\"T_50388b26_ed2d_11ea_8130_0242ac1c0002row3_col7\" class=\"data row3 col7\" >0.316192</td>\n",
              "            </tr>\n",
              "            <tr>\n",
              "                        <th id=\"T_50388b26_ed2d_11ea_8130_0242ac1c0002level0_row4\" class=\"row_heading level0 row4\" >bathrooms</th>\n",
              "                        <td id=\"T_50388b26_ed2d_11ea_8130_0242ac1c0002row4_col0\" class=\"data row4 col0\" >0.019923</td>\n",
              "                        <td id=\"T_50388b26_ed2d_11ea_8130_0242ac1c0002row4_col1\" class=\"data row4 col1\" >-0.028612</td>\n",
              "                        <td id=\"T_50388b26_ed2d_11ea_8130_0242ac1c0002row4_col2\" class=\"data row4 col2\" >0.613308</td>\n",
              "                        <td id=\"T_50388b26_ed2d_11ea_8130_0242ac1c0002row4_col3\" class=\"data row4 col3\" >0.588527</td>\n",
              "                        <td id=\"T_50388b26_ed2d_11ea_8130_0242ac1c0002row4_col4\" class=\"data row4 col4\" >1.000000</td>\n",
              "                        <td id=\"T_50388b26_ed2d_11ea_8130_0242ac1c0002row4_col5\" class=\"data row4 col5\" >0.061159</td>\n",
              "                        <td id=\"T_50388b26_ed2d_11ea_8130_0242ac1c0002row4_col6\" class=\"data row4 col6\" >0.069361</td>\n",
              "                        <td id=\"T_50388b26_ed2d_11ea_8130_0242ac1c0002row4_col7\" class=\"data row4 col7\" >0.556861</td>\n",
              "            </tr>\n",
              "            <tr>\n",
              "                        <th id=\"T_50388b26_ed2d_11ea_8130_0242ac1c0002level0_row5\" class=\"row_heading level0 row5\" >surface_total</th>\n",
              "                        <td id=\"T_50388b26_ed2d_11ea_8130_0242ac1c0002row5_col0\" class=\"data row5 col0\" >-0.019598</td>\n",
              "                        <td id=\"T_50388b26_ed2d_11ea_8130_0242ac1c0002row5_col1\" class=\"data row5 col1\" >-0.049097</td>\n",
              "                        <td id=\"T_50388b26_ed2d_11ea_8130_0242ac1c0002row5_col2\" class=\"data row5 col2\" >0.081044</td>\n",
              "                        <td id=\"T_50388b26_ed2d_11ea_8130_0242ac1c0002row5_col3\" class=\"data row5 col3\" >0.079229</td>\n",
              "                        <td id=\"T_50388b26_ed2d_11ea_8130_0242ac1c0002row5_col4\" class=\"data row5 col4\" >0.061159</td>\n",
              "                        <td id=\"T_50388b26_ed2d_11ea_8130_0242ac1c0002row5_col5\" class=\"data row5 col5\" >1.000000</td>\n",
              "                        <td id=\"T_50388b26_ed2d_11ea_8130_0242ac1c0002row5_col6\" class=\"data row5 col6\" >0.430887</td>\n",
              "                        <td id=\"T_50388b26_ed2d_11ea_8130_0242ac1c0002row5_col7\" class=\"data row5 col7\" >0.038727</td>\n",
              "            </tr>\n",
              "            <tr>\n",
              "                        <th id=\"T_50388b26_ed2d_11ea_8130_0242ac1c0002level0_row6\" class=\"row_heading level0 row6\" >surface_covered</th>\n",
              "                        <td id=\"T_50388b26_ed2d_11ea_8130_0242ac1c0002row6_col0\" class=\"data row6 col0\" >-0.004156</td>\n",
              "                        <td id=\"T_50388b26_ed2d_11ea_8130_0242ac1c0002row6_col1\" class=\"data row6 col1\" >-0.014388</td>\n",
              "                        <td id=\"T_50388b26_ed2d_11ea_8130_0242ac1c0002row6_col2\" class=\"data row6 col2\" >0.075012</td>\n",
              "                        <td id=\"T_50388b26_ed2d_11ea_8130_0242ac1c0002row6_col3\" class=\"data row6 col3\" >0.072627</td>\n",
              "                        <td id=\"T_50388b26_ed2d_11ea_8130_0242ac1c0002row6_col4\" class=\"data row6 col4\" >0.069361</td>\n",
              "                        <td id=\"T_50388b26_ed2d_11ea_8130_0242ac1c0002row6_col5\" class=\"data row6 col5\" >0.430887</td>\n",
              "                        <td id=\"T_50388b26_ed2d_11ea_8130_0242ac1c0002row6_col6\" class=\"data row6 col6\" >1.000000</td>\n",
              "                        <td id=\"T_50388b26_ed2d_11ea_8130_0242ac1c0002row6_col7\" class=\"data row6 col7\" >0.049136</td>\n",
              "            </tr>\n",
              "            <tr>\n",
              "                        <th id=\"T_50388b26_ed2d_11ea_8130_0242ac1c0002level0_row7\" class=\"row_heading level0 row7\" >price</th>\n",
              "                        <td id=\"T_50388b26_ed2d_11ea_8130_0242ac1c0002row7_col0\" class=\"data row7 col0\" >0.013393</td>\n",
              "                        <td id=\"T_50388b26_ed2d_11ea_8130_0242ac1c0002row7_col1\" class=\"data row7 col1\" >0.009368</td>\n",
              "                        <td id=\"T_50388b26_ed2d_11ea_8130_0242ac1c0002row7_col2\" class=\"data row7 col2\" >0.351025</td>\n",
              "                        <td id=\"T_50388b26_ed2d_11ea_8130_0242ac1c0002row7_col3\" class=\"data row7 col3\" >0.316192</td>\n",
              "                        <td id=\"T_50388b26_ed2d_11ea_8130_0242ac1c0002row7_col4\" class=\"data row7 col4\" >0.556861</td>\n",
              "                        <td id=\"T_50388b26_ed2d_11ea_8130_0242ac1c0002row7_col5\" class=\"data row7 col5\" >0.038727</td>\n",
              "                        <td id=\"T_50388b26_ed2d_11ea_8130_0242ac1c0002row7_col6\" class=\"data row7 col6\" >0.049136</td>\n",
              "                        <td id=\"T_50388b26_ed2d_11ea_8130_0242ac1c0002row7_col7\" class=\"data row7 col7\" >1.000000</td>\n",
              "            </tr>\n",
              "    </tbody></table>"
            ],
            "text/plain": [
              "<pandas.io.formats.style.Styler at 0x7fa0f399e8d0>"
            ]
          },
          "metadata": {
            "tags": []
          },
          "execution_count": 7
        }
      ]
    },
    {
      "cell_type": "code",
      "metadata": {
        "id": "wMR4NWdRhOw5",
        "colab_type": "code",
        "colab": {
          "base_uri": "https://localhost:8080/",
          "height": 204
        },
        "outputId": "0db6367b-9921-4680-dead-627f1c4d8454"
      },
      "source": [
        "#En esta celda se eliminan algunas columnas que no son de mucho interes para alimentar el modelo\n",
        "df = df.drop(columns = ['title','description', \"bedrooms\", 'l1',\"l2\",'currency',\"operation_type\"], axis = 1)\n",
        "df.head(5)"
      ],
      "execution_count": null,
      "outputs": [
        {
          "output_type": "execute_result",
          "data": {
            "text/html": [
              "<div>\n",
              "<style scoped>\n",
              "    .dataframe tbody tr th:only-of-type {\n",
              "        vertical-align: middle;\n",
              "    }\n",
              "\n",
              "    .dataframe tbody tr th {\n",
              "        vertical-align: top;\n",
              "    }\n",
              "\n",
              "    .dataframe thead th {\n",
              "        text-align: right;\n",
              "    }\n",
              "</style>\n",
              "<table border=\"1\" class=\"dataframe\">\n",
              "  <thead>\n",
              "    <tr style=\"text-align: right;\">\n",
              "      <th></th>\n",
              "      <th>lat</th>\n",
              "      <th>lon</th>\n",
              "      <th>l3</th>\n",
              "      <th>rooms</th>\n",
              "      <th>bathrooms</th>\n",
              "      <th>surface_total</th>\n",
              "      <th>surface_covered</th>\n",
              "      <th>price</th>\n",
              "      <th>property_type</th>\n",
              "    </tr>\n",
              "  </thead>\n",
              "  <tbody>\n",
              "    <tr>\n",
              "      <th>0</th>\n",
              "      <td>-34.605880</td>\n",
              "      <td>-58.384949</td>\n",
              "      <td>San Cristobal</td>\n",
              "      <td>7.0</td>\n",
              "      <td>2.0</td>\n",
              "      <td>140.0</td>\n",
              "      <td>140.0</td>\n",
              "      <td>153000.0</td>\n",
              "      <td>Departamento</td>\n",
              "    </tr>\n",
              "    <tr>\n",
              "      <th>1</th>\n",
              "      <td>-34.624056</td>\n",
              "      <td>-58.412110</td>\n",
              "      <td>Boedo</td>\n",
              "      <td>2.0</td>\n",
              "      <td>2.0</td>\n",
              "      <td>70.0</td>\n",
              "      <td>58.0</td>\n",
              "      <td>159000.0</td>\n",
              "      <td>PH</td>\n",
              "    </tr>\n",
              "    <tr>\n",
              "      <th>2</th>\n",
              "      <td>-34.593569</td>\n",
              "      <td>-58.427474</td>\n",
              "      <td>Palermo</td>\n",
              "      <td>2.0</td>\n",
              "      <td>1.0</td>\n",
              "      <td>45.0</td>\n",
              "      <td>45.0</td>\n",
              "      <td>125000.0</td>\n",
              "      <td>PH</td>\n",
              "    </tr>\n",
              "    <tr>\n",
              "      <th>3</th>\n",
              "      <td>-34.581294</td>\n",
              "      <td>-58.436754</td>\n",
              "      <td>Palermo</td>\n",
              "      <td>2.0</td>\n",
              "      <td>1.0</td>\n",
              "      <td>85.0</td>\n",
              "      <td>50.0</td>\n",
              "      <td>295000.0</td>\n",
              "      <td>PH</td>\n",
              "    </tr>\n",
              "    <tr>\n",
              "      <th>4</th>\n",
              "      <td>-34.914194</td>\n",
              "      <td>-57.938219</td>\n",
              "      <td>La Plata</td>\n",
              "      <td>2.0</td>\n",
              "      <td>1.0</td>\n",
              "      <td>50.0</td>\n",
              "      <td>35.0</td>\n",
              "      <td>40000.0</td>\n",
              "      <td>PH</td>\n",
              "    </tr>\n",
              "  </tbody>\n",
              "</table>\n",
              "</div>"
            ],
            "text/plain": [
              "         lat        lon             l3  ...  surface_covered     price  property_type\n",
              "0 -34.605880 -58.384949  San Cristobal  ...            140.0  153000.0   Departamento\n",
              "1 -34.624056 -58.412110          Boedo  ...             58.0  159000.0             PH\n",
              "2 -34.593569 -58.427474        Palermo  ...             45.0  125000.0             PH\n",
              "3 -34.581294 -58.436754        Palermo  ...             50.0  295000.0             PH\n",
              "4 -34.914194 -57.938219       La Plata  ...             35.0   40000.0             PH\n",
              "\n",
              "[5 rows x 9 columns]"
            ]
          },
          "metadata": {
            "tags": []
          },
          "execution_count": 8
        }
      ]
    },
    {
      "cell_type": "code",
      "metadata": {
        "id": "cVaTDB-KjCYU",
        "colab_type": "code",
        "colab": {
          "base_uri": "https://localhost:8080/",
          "height": 187
        },
        "outputId": "bf0d5ae7-edd7-4498-d3d8-e501639be270"
      },
      "source": [
        "#se realiza una nueva correlacion de pearson para evaluar la informacion contenida en la data\n",
        "corr = df.corr() \n",
        "corr.style.background_gradient(cmap='coolwarm')"
      ],
      "execution_count": null,
      "outputs": [
        {
          "output_type": "execute_result",
          "data": {
            "text/html": [
              "<style  type=\"text/css\" >\n",
              "    #T_5efe0f28_ed2d_11ea_8130_0242ac1c0002row0_col0 {\n",
              "            background-color:  #b40426;\n",
              "            color:  #f1f1f1;\n",
              "        }    #T_5efe0f28_ed2d_11ea_8130_0242ac1c0002row0_col1 {\n",
              "            background-color:  #3b4cc0;\n",
              "            color:  #f1f1f1;\n",
              "        }    #T_5efe0f28_ed2d_11ea_8130_0242ac1c0002row0_col2 {\n",
              "            background-color:  #3b4cc0;\n",
              "            color:  #f1f1f1;\n",
              "        }    #T_5efe0f28_ed2d_11ea_8130_0242ac1c0002row0_col3 {\n",
              "            background-color:  #4961d2;\n",
              "            color:  #f1f1f1;\n",
              "        }    #T_5efe0f28_ed2d_11ea_8130_0242ac1c0002row0_col4 {\n",
              "            background-color:  #4358cb;\n",
              "            color:  #f1f1f1;\n",
              "        }    #T_5efe0f28_ed2d_11ea_8130_0242ac1c0002row0_col5 {\n",
              "            background-color:  #3d50c3;\n",
              "            color:  #f1f1f1;\n",
              "        }    #T_5efe0f28_ed2d_11ea_8130_0242ac1c0002row0_col6 {\n",
              "            background-color:  #3c4ec2;\n",
              "            color:  #f1f1f1;\n",
              "        }    #T_5efe0f28_ed2d_11ea_8130_0242ac1c0002row1_col0 {\n",
              "            background-color:  #3b4cc0;\n",
              "            color:  #f1f1f1;\n",
              "        }    #T_5efe0f28_ed2d_11ea_8130_0242ac1c0002row1_col1 {\n",
              "            background-color:  #b40426;\n",
              "            color:  #f1f1f1;\n",
              "        }    #T_5efe0f28_ed2d_11ea_8130_0242ac1c0002row1_col2 {\n",
              "            background-color:  #3c4ec2;\n",
              "            color:  #f1f1f1;\n",
              "        }    #T_5efe0f28_ed2d_11ea_8130_0242ac1c0002row1_col3 {\n",
              "            background-color:  #3b4cc0;\n",
              "            color:  #f1f1f1;\n",
              "        }    #T_5efe0f28_ed2d_11ea_8130_0242ac1c0002row1_col4 {\n",
              "            background-color:  #3b4cc0;\n",
              "            color:  #f1f1f1;\n",
              "        }    #T_5efe0f28_ed2d_11ea_8130_0242ac1c0002row1_col5 {\n",
              "            background-color:  #3b4cc0;\n",
              "            color:  #f1f1f1;\n",
              "        }    #T_5efe0f28_ed2d_11ea_8130_0242ac1c0002row1_col6 {\n",
              "            background-color:  #3b4cc0;\n",
              "            color:  #f1f1f1;\n",
              "        }    #T_5efe0f28_ed2d_11ea_8130_0242ac1c0002row2_col0 {\n",
              "            background-color:  #dadce0;\n",
              "            color:  #000000;\n",
              "        }    #T_5efe0f28_ed2d_11ea_8130_0242ac1c0002row2_col1 {\n",
              "            background-color:  #dadce0;\n",
              "            color:  #000000;\n",
              "        }    #T_5efe0f28_ed2d_11ea_8130_0242ac1c0002row2_col2 {\n",
              "            background-color:  #b40426;\n",
              "            color:  #f1f1f1;\n",
              "        }    #T_5efe0f28_ed2d_11ea_8130_0242ac1c0002row2_col3 {\n",
              "            background-color:  #f4c5ad;\n",
              "            color:  #000000;\n",
              "        }    #T_5efe0f28_ed2d_11ea_8130_0242ac1c0002row2_col4 {\n",
              "            background-color:  #6180e9;\n",
              "            color:  #000000;\n",
              "        }    #T_5efe0f28_ed2d_11ea_8130_0242ac1c0002row2_col5 {\n",
              "            background-color:  #5572df;\n",
              "            color:  #000000;\n",
              "        }    #T_5efe0f28_ed2d_11ea_8130_0242ac1c0002row2_col6 {\n",
              "            background-color:  #aec9fc;\n",
              "            color:  #000000;\n",
              "        }    #T_5efe0f28_ed2d_11ea_8130_0242ac1c0002row3_col0 {\n",
              "            background-color:  #dddcdc;\n",
              "            color:  #000000;\n",
              "        }    #T_5efe0f28_ed2d_11ea_8130_0242ac1c0002row3_col1 {\n",
              "            background-color:  #d7dce3;\n",
              "            color:  #000000;\n",
              "        }    #T_5efe0f28_ed2d_11ea_8130_0242ac1c0002row3_col2 {\n",
              "            background-color:  #f4c6af;\n",
              "            color:  #000000;\n",
              "        }    #T_5efe0f28_ed2d_11ea_8130_0242ac1c0002row3_col3 {\n",
              "            background-color:  #b40426;\n",
              "            color:  #f1f1f1;\n",
              "        }    #T_5efe0f28_ed2d_11ea_8130_0242ac1c0002row3_col4 {\n",
              "            background-color:  #5a78e4;\n",
              "            color:  #000000;\n",
              "        }    #T_5efe0f28_ed2d_11ea_8130_0242ac1c0002row3_col5 {\n",
              "            background-color:  #5470de;\n",
              "            color:  #000000;\n",
              "        }    #T_5efe0f28_ed2d_11ea_8130_0242ac1c0002row3_col6 {\n",
              "            background-color:  #ead5c9;\n",
              "            color:  #000000;\n",
              "        }    #T_5efe0f28_ed2d_11ea_8130_0242ac1c0002row4_col0 {\n",
              "            background-color:  #d8dce2;\n",
              "            color:  #000000;\n",
              "        }    #T_5efe0f28_ed2d_11ea_8130_0242ac1c0002row4_col1 {\n",
              "            background-color:  #d5dbe5;\n",
              "            color:  #000000;\n",
              "        }    #T_5efe0f28_ed2d_11ea_8130_0242ac1c0002row4_col2 {\n",
              "            background-color:  #5673e0;\n",
              "            color:  #000000;\n",
              "        }    #T_5efe0f28_ed2d_11ea_8130_0242ac1c0002row4_col3 {\n",
              "            background-color:  #5572df;\n",
              "            color:  #000000;\n",
              "        }    #T_5efe0f28_ed2d_11ea_8130_0242ac1c0002row4_col4 {\n",
              "            background-color:  #b40426;\n",
              "            color:  #f1f1f1;\n",
              "        }    #T_5efe0f28_ed2d_11ea_8130_0242ac1c0002row4_col5 {\n",
              "            background-color:  #ccd9ed;\n",
              "            color:  #000000;\n",
              "        }    #T_5efe0f28_ed2d_11ea_8130_0242ac1c0002row4_col6 {\n",
              "            background-color:  #4358cb;\n",
              "            color:  #f1f1f1;\n",
              "        }    #T_5efe0f28_ed2d_11ea_8130_0242ac1c0002row5_col0 {\n",
              "            background-color:  #dadce0;\n",
              "            color:  #000000;\n",
              "        }    #T_5efe0f28_ed2d_11ea_8130_0242ac1c0002row5_col1 {\n",
              "            background-color:  #d9dce1;\n",
              "            color:  #000000;\n",
              "        }    #T_5efe0f28_ed2d_11ea_8130_0242ac1c0002row5_col2 {\n",
              "            background-color:  #5470de;\n",
              "            color:  #000000;\n",
              "        }    #T_5efe0f28_ed2d_11ea_8130_0242ac1c0002row5_col3 {\n",
              "            background-color:  #5875e1;\n",
              "            color:  #000000;\n",
              "        }    #T_5efe0f28_ed2d_11ea_8130_0242ac1c0002row5_col4 {\n",
              "            background-color:  #d2dbe8;\n",
              "            color:  #000000;\n",
              "        }    #T_5efe0f28_ed2d_11ea_8130_0242ac1c0002row5_col5 {\n",
              "            background-color:  #b40426;\n",
              "            color:  #f1f1f1;\n",
              "        }    #T_5efe0f28_ed2d_11ea_8130_0242ac1c0002row5_col6 {\n",
              "            background-color:  #465ecf;\n",
              "            color:  #f1f1f1;\n",
              "        }    #T_5efe0f28_ed2d_11ea_8130_0242ac1c0002row6_col0 {\n",
              "            background-color:  #dddcdc;\n",
              "            color:  #000000;\n",
              "        }    #T_5efe0f28_ed2d_11ea_8130_0242ac1c0002row6_col1 {\n",
              "            background-color:  #dcdddd;\n",
              "            color:  #000000;\n",
              "        }    #T_5efe0f28_ed2d_11ea_8130_0242ac1c0002row6_col2 {\n",
              "            background-color:  #b2ccfb;\n",
              "            color:  #000000;\n",
              "        }    #T_5efe0f28_ed2d_11ea_8130_0242ac1c0002row6_col3 {\n",
              "            background-color:  #edd2c3;\n",
              "            color:  #000000;\n",
              "        }    #T_5efe0f28_ed2d_11ea_8130_0242ac1c0002row6_col4 {\n",
              "            background-color:  #5470de;\n",
              "            color:  #000000;\n",
              "        }    #T_5efe0f28_ed2d_11ea_8130_0242ac1c0002row6_col5 {\n",
              "            background-color:  #4e68d8;\n",
              "            color:  #000000;\n",
              "        }    #T_5efe0f28_ed2d_11ea_8130_0242ac1c0002row6_col6 {\n",
              "            background-color:  #b40426;\n",
              "            color:  #f1f1f1;\n",
              "        }</style><table id=\"T_5efe0f28_ed2d_11ea_8130_0242ac1c0002\" ><thead>    <tr>        <th class=\"blank level0\" ></th>        <th class=\"col_heading level0 col0\" >lat</th>        <th class=\"col_heading level0 col1\" >lon</th>        <th class=\"col_heading level0 col2\" >rooms</th>        <th class=\"col_heading level0 col3\" >bathrooms</th>        <th class=\"col_heading level0 col4\" >surface_total</th>        <th class=\"col_heading level0 col5\" >surface_covered</th>        <th class=\"col_heading level0 col6\" >price</th>    </tr></thead><tbody>\n",
              "                <tr>\n",
              "                        <th id=\"T_5efe0f28_ed2d_11ea_8130_0242ac1c0002level0_row0\" class=\"row_heading level0 row0\" >lat</th>\n",
              "                        <td id=\"T_5efe0f28_ed2d_11ea_8130_0242ac1c0002row0_col0\" class=\"data row0 col0\" >1.000000</td>\n",
              "                        <td id=\"T_5efe0f28_ed2d_11ea_8130_0242ac1c0002row0_col1\" class=\"data row0 col1\" >-0.975578</td>\n",
              "                        <td id=\"T_5efe0f28_ed2d_11ea_8130_0242ac1c0002row0_col2\" class=\"data row0 col2\" >-0.010933</td>\n",
              "                        <td id=\"T_5efe0f28_ed2d_11ea_8130_0242ac1c0002row0_col3\" class=\"data row0 col3\" >0.019923</td>\n",
              "                        <td id=\"T_5efe0f28_ed2d_11ea_8130_0242ac1c0002row0_col4\" class=\"data row0 col4\" >-0.019598</td>\n",
              "                        <td id=\"T_5efe0f28_ed2d_11ea_8130_0242ac1c0002row0_col5\" class=\"data row0 col5\" >-0.004156</td>\n",
              "                        <td id=\"T_5efe0f28_ed2d_11ea_8130_0242ac1c0002row0_col6\" class=\"data row0 col6\" >0.013393</td>\n",
              "            </tr>\n",
              "            <tr>\n",
              "                        <th id=\"T_5efe0f28_ed2d_11ea_8130_0242ac1c0002level0_row1\" class=\"row_heading level0 row1\" >lon</th>\n",
              "                        <td id=\"T_5efe0f28_ed2d_11ea_8130_0242ac1c0002row1_col0\" class=\"data row1 col0\" >-0.975578</td>\n",
              "                        <td id=\"T_5efe0f28_ed2d_11ea_8130_0242ac1c0002row1_col1\" class=\"data row1 col1\" >1.000000</td>\n",
              "                        <td id=\"T_5efe0f28_ed2d_11ea_8130_0242ac1c0002row1_col2\" class=\"data row1 col2\" >-0.006931</td>\n",
              "                        <td id=\"T_5efe0f28_ed2d_11ea_8130_0242ac1c0002row1_col3\" class=\"data row1 col3\" >-0.028612</td>\n",
              "                        <td id=\"T_5efe0f28_ed2d_11ea_8130_0242ac1c0002row1_col4\" class=\"data row1 col4\" >-0.049097</td>\n",
              "                        <td id=\"T_5efe0f28_ed2d_11ea_8130_0242ac1c0002row1_col5\" class=\"data row1 col5\" >-0.014388</td>\n",
              "                        <td id=\"T_5efe0f28_ed2d_11ea_8130_0242ac1c0002row1_col6\" class=\"data row1 col6\" >0.009368</td>\n",
              "            </tr>\n",
              "            <tr>\n",
              "                        <th id=\"T_5efe0f28_ed2d_11ea_8130_0242ac1c0002level0_row2\" class=\"row_heading level0 row2\" >rooms</th>\n",
              "                        <td id=\"T_5efe0f28_ed2d_11ea_8130_0242ac1c0002row2_col0\" class=\"data row2 col0\" >-0.010933</td>\n",
              "                        <td id=\"T_5efe0f28_ed2d_11ea_8130_0242ac1c0002row2_col1\" class=\"data row2 col1\" >-0.006931</td>\n",
              "                        <td id=\"T_5efe0f28_ed2d_11ea_8130_0242ac1c0002row2_col2\" class=\"data row2 col2\" >1.000000</td>\n",
              "                        <td id=\"T_5efe0f28_ed2d_11ea_8130_0242ac1c0002row2_col3\" class=\"data row2 col3\" >0.613308</td>\n",
              "                        <td id=\"T_5efe0f28_ed2d_11ea_8130_0242ac1c0002row2_col4\" class=\"data row2 col4\" >0.081044</td>\n",
              "                        <td id=\"T_5efe0f28_ed2d_11ea_8130_0242ac1c0002row2_col5\" class=\"data row2 col5\" >0.075012</td>\n",
              "                        <td id=\"T_5efe0f28_ed2d_11ea_8130_0242ac1c0002row2_col6\" class=\"data row2 col6\" >0.351025</td>\n",
              "            </tr>\n",
              "            <tr>\n",
              "                        <th id=\"T_5efe0f28_ed2d_11ea_8130_0242ac1c0002level0_row3\" class=\"row_heading level0 row3\" >bathrooms</th>\n",
              "                        <td id=\"T_5efe0f28_ed2d_11ea_8130_0242ac1c0002row3_col0\" class=\"data row3 col0\" >0.019923</td>\n",
              "                        <td id=\"T_5efe0f28_ed2d_11ea_8130_0242ac1c0002row3_col1\" class=\"data row3 col1\" >-0.028612</td>\n",
              "                        <td id=\"T_5efe0f28_ed2d_11ea_8130_0242ac1c0002row3_col2\" class=\"data row3 col2\" >0.613308</td>\n",
              "                        <td id=\"T_5efe0f28_ed2d_11ea_8130_0242ac1c0002row3_col3\" class=\"data row3 col3\" >1.000000</td>\n",
              "                        <td id=\"T_5efe0f28_ed2d_11ea_8130_0242ac1c0002row3_col4\" class=\"data row3 col4\" >0.061159</td>\n",
              "                        <td id=\"T_5efe0f28_ed2d_11ea_8130_0242ac1c0002row3_col5\" class=\"data row3 col5\" >0.069361</td>\n",
              "                        <td id=\"T_5efe0f28_ed2d_11ea_8130_0242ac1c0002row3_col6\" class=\"data row3 col6\" >0.556861</td>\n",
              "            </tr>\n",
              "            <tr>\n",
              "                        <th id=\"T_5efe0f28_ed2d_11ea_8130_0242ac1c0002level0_row4\" class=\"row_heading level0 row4\" >surface_total</th>\n",
              "                        <td id=\"T_5efe0f28_ed2d_11ea_8130_0242ac1c0002row4_col0\" class=\"data row4 col0\" >-0.019598</td>\n",
              "                        <td id=\"T_5efe0f28_ed2d_11ea_8130_0242ac1c0002row4_col1\" class=\"data row4 col1\" >-0.049097</td>\n",
              "                        <td id=\"T_5efe0f28_ed2d_11ea_8130_0242ac1c0002row4_col2\" class=\"data row4 col2\" >0.081044</td>\n",
              "                        <td id=\"T_5efe0f28_ed2d_11ea_8130_0242ac1c0002row4_col3\" class=\"data row4 col3\" >0.061159</td>\n",
              "                        <td id=\"T_5efe0f28_ed2d_11ea_8130_0242ac1c0002row4_col4\" class=\"data row4 col4\" >1.000000</td>\n",
              "                        <td id=\"T_5efe0f28_ed2d_11ea_8130_0242ac1c0002row4_col5\" class=\"data row4 col5\" >0.430887</td>\n",
              "                        <td id=\"T_5efe0f28_ed2d_11ea_8130_0242ac1c0002row4_col6\" class=\"data row4 col6\" >0.038727</td>\n",
              "            </tr>\n",
              "            <tr>\n",
              "                        <th id=\"T_5efe0f28_ed2d_11ea_8130_0242ac1c0002level0_row5\" class=\"row_heading level0 row5\" >surface_covered</th>\n",
              "                        <td id=\"T_5efe0f28_ed2d_11ea_8130_0242ac1c0002row5_col0\" class=\"data row5 col0\" >-0.004156</td>\n",
              "                        <td id=\"T_5efe0f28_ed2d_11ea_8130_0242ac1c0002row5_col1\" class=\"data row5 col1\" >-0.014388</td>\n",
              "                        <td id=\"T_5efe0f28_ed2d_11ea_8130_0242ac1c0002row5_col2\" class=\"data row5 col2\" >0.075012</td>\n",
              "                        <td id=\"T_5efe0f28_ed2d_11ea_8130_0242ac1c0002row5_col3\" class=\"data row5 col3\" >0.069361</td>\n",
              "                        <td id=\"T_5efe0f28_ed2d_11ea_8130_0242ac1c0002row5_col4\" class=\"data row5 col4\" >0.430887</td>\n",
              "                        <td id=\"T_5efe0f28_ed2d_11ea_8130_0242ac1c0002row5_col5\" class=\"data row5 col5\" >1.000000</td>\n",
              "                        <td id=\"T_5efe0f28_ed2d_11ea_8130_0242ac1c0002row5_col6\" class=\"data row5 col6\" >0.049136</td>\n",
              "            </tr>\n",
              "            <tr>\n",
              "                        <th id=\"T_5efe0f28_ed2d_11ea_8130_0242ac1c0002level0_row6\" class=\"row_heading level0 row6\" >price</th>\n",
              "                        <td id=\"T_5efe0f28_ed2d_11ea_8130_0242ac1c0002row6_col0\" class=\"data row6 col0\" >0.013393</td>\n",
              "                        <td id=\"T_5efe0f28_ed2d_11ea_8130_0242ac1c0002row6_col1\" class=\"data row6 col1\" >0.009368</td>\n",
              "                        <td id=\"T_5efe0f28_ed2d_11ea_8130_0242ac1c0002row6_col2\" class=\"data row6 col2\" >0.351025</td>\n",
              "                        <td id=\"T_5efe0f28_ed2d_11ea_8130_0242ac1c0002row6_col3\" class=\"data row6 col3\" >0.556861</td>\n",
              "                        <td id=\"T_5efe0f28_ed2d_11ea_8130_0242ac1c0002row6_col4\" class=\"data row6 col4\" >0.038727</td>\n",
              "                        <td id=\"T_5efe0f28_ed2d_11ea_8130_0242ac1c0002row6_col5\" class=\"data row6 col5\" >0.049136</td>\n",
              "                        <td id=\"T_5efe0f28_ed2d_11ea_8130_0242ac1c0002row6_col6\" class=\"data row6 col6\" >1.000000</td>\n",
              "            </tr>\n",
              "    </tbody></table>"
            ],
            "text/plain": [
              "<pandas.io.formats.style.Styler at 0x7fa0f399eb00>"
            ]
          },
          "metadata": {
            "tags": []
          },
          "execution_count": 9
        }
      ]
    },
    {
      "cell_type": "code",
      "metadata": {
        "id": "8xPsm-pdUIUl",
        "colab_type": "code",
        "colab": {
          "base_uri": "https://localhost:8080/",
          "height": 204
        },
        "outputId": "b66527d1-4e02-4fe2-fea7-6c05c100459b"
      },
      "source": [
        "# se muestran las categorías del campo property_type y su cantidad de valores\n",
        "df[\"property_type\"].value_counts()"
      ],
      "execution_count": null,
      "outputs": [
        {
          "output_type": "execute_result",
          "data": {
            "text/plain": [
              "Departamento       107326\n",
              "Casa                21521\n",
              "PH                  14298\n",
              "Lote                 1312\n",
              "Oficina               658\n",
              "Otro                  374\n",
              "Local comercial       325\n",
              "Casa de campo         322\n",
              "Depósito              265\n",
              "Cochera               259\n",
              "Name: property_type, dtype: int64"
            ]
          },
          "metadata": {
            "tags": []
          },
          "execution_count": 10
        }
      ]
    },
    {
      "cell_type": "markdown",
      "metadata": {
        "id": "DoHvjsoWldxT",
        "colab_type": "text"
      },
      "source": [
        "Teniendo en cuanta la anterior celda y considerando que lo mas representativo dentro del dataset son las categorias de \"Departamento\", \"Casa\" y \"PH\", se procede a realizar un filtrado de la data por estas categorias con el fin de mostrarle al modelo datos mas representativos que lo ayudaran a tener mas exactitud en las predicciones, ademas de considerar que son propiedades que estan en la ciudad."
      ]
    },
    {
      "cell_type": "code",
      "metadata": {
        "id": "jxYYGAscmUcd",
        "colab_type": "code",
        "colab": {}
      },
      "source": [
        "lista_propiedades = ['Departamento','Casa','PH']\n",
        "df_filtrado=df[df['property_type'].isin(lista_propiedades)]"
      ],
      "execution_count": null,
      "outputs": []
    },
    {
      "cell_type": "code",
      "metadata": {
        "id": "ujmEkNYkmzlW",
        "colab_type": "code",
        "colab": {
          "base_uri": "https://localhost:8080/",
          "height": 142
        },
        "outputId": "1627e664-5d3a-4756-f32d-e2f70a417092"
      },
      "source": [
        "df_filtrado.head(3)"
      ],
      "execution_count": null,
      "outputs": [
        {
          "output_type": "execute_result",
          "data": {
            "text/html": [
              "<div>\n",
              "<style scoped>\n",
              "    .dataframe tbody tr th:only-of-type {\n",
              "        vertical-align: middle;\n",
              "    }\n",
              "\n",
              "    .dataframe tbody tr th {\n",
              "        vertical-align: top;\n",
              "    }\n",
              "\n",
              "    .dataframe thead th {\n",
              "        text-align: right;\n",
              "    }\n",
              "</style>\n",
              "<table border=\"1\" class=\"dataframe\">\n",
              "  <thead>\n",
              "    <tr style=\"text-align: right;\">\n",
              "      <th></th>\n",
              "      <th>lat</th>\n",
              "      <th>lon</th>\n",
              "      <th>l3</th>\n",
              "      <th>rooms</th>\n",
              "      <th>bathrooms</th>\n",
              "      <th>surface_total</th>\n",
              "      <th>surface_covered</th>\n",
              "      <th>price</th>\n",
              "      <th>property_type</th>\n",
              "    </tr>\n",
              "  </thead>\n",
              "  <tbody>\n",
              "    <tr>\n",
              "      <th>0</th>\n",
              "      <td>-34.605880</td>\n",
              "      <td>-58.384949</td>\n",
              "      <td>San Cristobal</td>\n",
              "      <td>7.0</td>\n",
              "      <td>2.0</td>\n",
              "      <td>140.0</td>\n",
              "      <td>140.0</td>\n",
              "      <td>153000.0</td>\n",
              "      <td>Departamento</td>\n",
              "    </tr>\n",
              "    <tr>\n",
              "      <th>1</th>\n",
              "      <td>-34.624056</td>\n",
              "      <td>-58.412110</td>\n",
              "      <td>Boedo</td>\n",
              "      <td>2.0</td>\n",
              "      <td>2.0</td>\n",
              "      <td>70.0</td>\n",
              "      <td>58.0</td>\n",
              "      <td>159000.0</td>\n",
              "      <td>PH</td>\n",
              "    </tr>\n",
              "    <tr>\n",
              "      <th>2</th>\n",
              "      <td>-34.593569</td>\n",
              "      <td>-58.427474</td>\n",
              "      <td>Palermo</td>\n",
              "      <td>2.0</td>\n",
              "      <td>1.0</td>\n",
              "      <td>45.0</td>\n",
              "      <td>45.0</td>\n",
              "      <td>125000.0</td>\n",
              "      <td>PH</td>\n",
              "    </tr>\n",
              "  </tbody>\n",
              "</table>\n",
              "</div>"
            ],
            "text/plain": [
              "         lat        lon             l3  ...  surface_covered     price  property_type\n",
              "0 -34.605880 -58.384949  San Cristobal  ...            140.0  153000.0   Departamento\n",
              "1 -34.624056 -58.412110          Boedo  ...             58.0  159000.0             PH\n",
              "2 -34.593569 -58.427474        Palermo  ...             45.0  125000.0             PH\n",
              "\n",
              "[3 rows x 9 columns]"
            ]
          },
          "metadata": {
            "tags": []
          },
          "execution_count": 12
        }
      ]
    },
    {
      "cell_type": "code",
      "metadata": {
        "id": "W2hwhCSGm2Kw",
        "colab_type": "code",
        "colab": {
          "base_uri": "https://localhost:8080/",
          "height": 302
        },
        "outputId": "3cd3a314-9e2c-4694-c25d-9c84414f9847"
      },
      "source": [
        "#en esta celda se realiza una visualizacion grafica de las categorias escogidas para entenderlo de una mejor manera \n",
        "sns.countplot(x=\"property_type\", data=df_filtrado)"
      ],
      "execution_count": null,
      "outputs": [
        {
          "output_type": "execute_result",
          "data": {
            "text/plain": [
              "<matplotlib.axes._subplots.AxesSubplot at 0x7fa0f3558b70>"
            ]
          },
          "metadata": {
            "tags": []
          },
          "execution_count": 13
        },
        {
          "output_type": "display_data",
          "data": {
            "image/png": "[encoded data removed]",
            "text/plain": [
              "<Figure size 432x288 with 1 Axes>"
            ]
          },
          "metadata": {
            "tags": []
          }
        }
      ]
    },
    {
      "cell_type": "markdown",
      "metadata": {
        "id": "TN60gkkenSfz",
        "colab_type": "text"
      },
      "source": [
        "***Analisis de valores faltantes o Nulos ***"
      ]
    },
    {
      "cell_type": "code",
      "metadata": {
        "id": "EhjDH-bsT2qR",
        "colab_type": "code",
        "colab": {
          "base_uri": "https://localhost:8080/",
          "height": 187
        },
        "outputId": "d7a4ece6-1e9b-4f8e-e026-39bfd4167bc8"
      },
      "source": [
        "# En esta celda se determinan que columnas poseen valores faltantes y cuanto es su cantidad\n",
        "df_filtrado.isna().sum()"
      ],
      "execution_count": null,
      "outputs": [
        {
          "output_type": "execute_result",
          "data": {
            "text/plain": [
              "lat                 9593\n",
              "lon                 9624\n",
              "l3                     0\n",
              "rooms                  0\n",
              "bathrooms           4211\n",
              "surface_total      18623\n",
              "surface_covered    18909\n",
              "price                  0\n",
              "property_type          0\n",
              "dtype: int64"
            ]
          },
          "metadata": {
            "tags": []
          },
          "execution_count": 14
        }
      ]
    },
    {
      "cell_type": "markdown",
      "metadata": {
        "id": "UBQE97gAuFy6",
        "colab_type": "text"
      },
      "source": [
        "En las siguientes celdas se desea analizar si existen errores en el dataset, principalmente en las columnas de interes predictor como son \"surface_total\" y \"surface_covered\". para esto se hace un analisis comparativo entre las dos columnas antes mencionadas. \n",
        "\n",
        "el error que se busca es si \"surface_total\" < \"surface_covered\", cosa que no puede ser cierta ya que deberia ser al contrario \"surface_total\" > \"surface_covered\""
      ]
    },
    {
      "cell_type": "code",
      "metadata": {
        "id": "bORn6VaNUWWu",
        "colab_type": "code",
        "colab": {
          "base_uri": "https://localhost:8080/",
          "height": 34
        },
        "outputId": "0b3a608d-8dc2-45db-8143-b2ac691c5e81"
      },
      "source": [
        "# en esta celda se muestra cuantos errores pueden haber en las distintas superficies\n",
        "incorrectos = df_filtrado[df_filtrado[\"surface_total\"] < df_filtrado[\"surface_covered\"]]\n",
        "print(\"Total de instancias con errores en la superficie:\", incorrectos.shape[0])"
      ],
      "execution_count": null,
      "outputs": [
        {
          "output_type": "stream",
          "text": [
            "Total de instancias con errores en la superficie: 1420\n"
          ],
          "name": "stdout"
        }
      ]
    },
    {
      "cell_type": "markdown",
      "metadata": {
        "id": "fI5enNkVvzUA",
        "colab_type": "text"
      },
      "source": [
        "En total son 1420 instancias que tienen el dato errado, se propone intercambiar los valores de **superficie total** con **superficie cubierta**"
      ]
    },
    {
      "cell_type": "code",
      "metadata": {
        "id": "aeVuBmtfwQFt",
        "colab_type": "code",
        "colab": {
          "base_uri": "https://localhost:8080/",
          "height": 119
        },
        "outputId": "8bfed06f-0a47-4fe9-dd7e-dff66f94bbcf"
      },
      "source": [
        "df_filtrado.at[incorrectos.index, 'surface_total'] = incorrectos.surface_covered\n",
        "df_filtrado.at[incorrectos.index, 'surface_covered'] = incorrectos.surface_total"
      ],
      "execution_count": null,
      "outputs": [
        {
          "output_type": "stream",
          "text": [
            "/usr/local/lib/python3.6/dist-packages/pandas/core/indexing.py:966: SettingWithCopyWarning: \n",
            "A value is trying to be set on a copy of a slice from a DataFrame.\n",
            "Try using .loc[row_indexer,col_indexer] = value instead\n",
            "\n",
            "See the caveats in the documentation: https://pandas.pydata.org/pandas-docs/stable/user_guide/indexing.html#returning-a-view-versus-a-copy\n",
            "  self.obj[item] = s\n"
          ],
          "name": "stderr"
        }
      ]
    },
    {
      "cell_type": "markdown",
      "metadata": {
        "id": "QQ-Eizt03sps",
        "colab_type": "text"
      },
      "source": [
        "Otro error que se desea buscar es el de las ubicaciones de las propiedades, ya que muchas veces este dato puede estar repetido o distorcionado y por ende puede influir en el precio de un inmueble a la hora de valorizarse por el sector."
      ]
    },
    {
      "cell_type": "code",
      "metadata": {
        "id": "e1QGn5k3p3GP",
        "colab_type": "code",
        "colab": {
          "base_uri": "https://localhost:8080/",
          "height": 306
        },
        "outputId": "99ba97e0-06c4-45d5-8096-0cc97e0b4b44"
      },
      "source": [
        "puntos_repetidos = df_filtrado.groupby(['lat', 'lon']).size()\n",
        "puntos_repetidos[puntos_repetidos > 1].sort_values(ascending=False).head(15)"
      ],
      "execution_count": null,
      "outputs": [
        {
          "output_type": "execute_result",
          "data": {
            "text/plain": [
              "lat         lon       \n",
              "-34.425087  -58.579659    516\n",
              "-34.597256  -58.445498    254\n",
              "-34.578066  -58.426532    236\n",
              "-34.579326  -58.455819    217\n",
              "-34.596762  -58.421589    205\n",
              "-34.587383  -58.397276    190\n",
              "-34.589767  -58.420728    168\n",
              "-34.542750  -58.460145    168\n",
              "-34.618150  -58.394095    160\n",
              "-34.602133  -58.466831    156\n",
              "-34.601364  -58.430143    153\n",
              "-34.605265  -58.424579    151\n",
              "-34.588007  -58.420122    139\n",
              "-34.597679  -58.443019    132\n",
              "-34.615924  -58.440603    130\n",
              "dtype: int64"
            ]
          },
          "metadata": {
            "tags": []
          },
          "execution_count": 17
        }
      ]
    },
    {
      "cell_type": "markdown",
      "metadata": {
        "id": "kOFD4kJh4juw",
        "colab_type": "text"
      },
      "source": [
        "con la anterior celda nos damos cuenta que si existen muchos errores con la repeticion de los puntos para las ubicaciones de los inmuebles, por ende se procede hacer un filtrado de las propiedades cuya coordenada se repite maximo hasta 5 veces."
      ]
    },
    {
      "cell_type": "code",
      "metadata": {
        "id": "H64UWZddp_cX",
        "colab_type": "code",
        "colab": {}
      },
      "source": [
        "puntos_repetidos.name = 'conteo' \n",
        "\n",
        "df_filtrado = df_filtrado.join(puntos_repetidos, on=['lat', 'lon'])\n",
        "\n",
        "df_filtrado = df_filtrado[df_filtrado.conteo <= 5]"
      ],
      "execution_count": null,
      "outputs": []
    },
    {
      "cell_type": "code",
      "metadata": {
        "id": "BPqJtAPd5Y22",
        "colab_type": "code",
        "colab": {
          "base_uri": "https://localhost:8080/",
          "height": 142
        },
        "outputId": "a63d9848-020d-447d-841c-e4d2783f9079"
      },
      "source": [
        "df_filtrado.drop('conteo', inplace=True, axis=1)\n",
        "df_filtrado.head(3)"
      ],
      "execution_count": null,
      "outputs": [
        {
          "output_type": "execute_result",
          "data": {
            "text/html": [
              "<div>\n",
              "<style scoped>\n",
              "    .dataframe tbody tr th:only-of-type {\n",
              "        vertical-align: middle;\n",
              "    }\n",
              "\n",
              "    .dataframe tbody tr th {\n",
              "        vertical-align: top;\n",
              "    }\n",
              "\n",
              "    .dataframe thead th {\n",
              "        text-align: right;\n",
              "    }\n",
              "</style>\n",
              "<table border=\"1\" class=\"dataframe\">\n",
              "  <thead>\n",
              "    <tr style=\"text-align: right;\">\n",
              "      <th></th>\n",
              "      <th>lat</th>\n",
              "      <th>lon</th>\n",
              "      <th>l3</th>\n",
              "      <th>rooms</th>\n",
              "      <th>bathrooms</th>\n",
              "      <th>surface_total</th>\n",
              "      <th>surface_covered</th>\n",
              "      <th>price</th>\n",
              "      <th>property_type</th>\n",
              "    </tr>\n",
              "  </thead>\n",
              "  <tbody>\n",
              "    <tr>\n",
              "      <th>0</th>\n",
              "      <td>-34.605880</td>\n",
              "      <td>-58.384949</td>\n",
              "      <td>San Cristobal</td>\n",
              "      <td>7.0</td>\n",
              "      <td>2.0</td>\n",
              "      <td>140.0</td>\n",
              "      <td>140.0</td>\n",
              "      <td>153000.0</td>\n",
              "      <td>Departamento</td>\n",
              "    </tr>\n",
              "    <tr>\n",
              "      <th>1</th>\n",
              "      <td>-34.624056</td>\n",
              "      <td>-58.412110</td>\n",
              "      <td>Boedo</td>\n",
              "      <td>2.0</td>\n",
              "      <td>2.0</td>\n",
              "      <td>70.0</td>\n",
              "      <td>58.0</td>\n",
              "      <td>159000.0</td>\n",
              "      <td>PH</td>\n",
              "    </tr>\n",
              "    <tr>\n",
              "      <th>3</th>\n",
              "      <td>-34.581294</td>\n",
              "      <td>-58.436754</td>\n",
              "      <td>Palermo</td>\n",
              "      <td>2.0</td>\n",
              "      <td>1.0</td>\n",
              "      <td>85.0</td>\n",
              "      <td>50.0</td>\n",
              "      <td>295000.0</td>\n",
              "      <td>PH</td>\n",
              "    </tr>\n",
              "  </tbody>\n",
              "</table>\n",
              "</div>"
            ],
            "text/plain": [
              "         lat        lon             l3  ...  surface_covered     price  property_type\n",
              "0 -34.605880 -58.384949  San Cristobal  ...            140.0  153000.0   Departamento\n",
              "1 -34.624056 -58.412110          Boedo  ...             58.0  159000.0             PH\n",
              "3 -34.581294 -58.436754        Palermo  ...             50.0  295000.0             PH\n",
              "\n",
              "[3 rows x 9 columns]"
            ]
          },
          "metadata": {
            "tags": []
          },
          "execution_count": 19
        }
      ]
    },
    {
      "cell_type": "code",
      "metadata": {
        "id": "3Nl9LYGe5gxp",
        "colab_type": "code",
        "colab": {
          "base_uri": "https://localhost:8080/",
          "height": 136
        },
        "outputId": "98a17a97-5602-4e23-bfca-8fe767924468"
      },
      "source": [
        "puntos_repetidos2 = df_filtrado.groupby(['lat', 'lon']).size()\n",
        "puntos_repetidos2[puntos_repetidos2 > 1].sort_values(ascending=False).head(5)"
      ],
      "execution_count": null,
      "outputs": [
        {
          "output_type": "execute_result",
          "data": {
            "text/plain": [
              "lat         lon       \n",
              "-34.555100  -58.450892    5\n",
              "-34.553692  -58.688092    5\n",
              "-34.587547  -58.511305    5\n",
              "-34.587460  -58.386744    5\n",
              "-34.553468  -58.473731    5\n",
              "dtype: int64"
            ]
          },
          "metadata": {
            "tags": []
          },
          "execution_count": 20
        }
      ]
    },
    {
      "cell_type": "code",
      "metadata": {
        "id": "Pm8NShNp5pLA",
        "colab_type": "code",
        "colab": {
          "base_uri": "https://localhost:8080/",
          "height": 34
        },
        "outputId": "585073f5-5839-46c4-a57d-6f89a66d6e77"
      },
      "source": [
        "print(\"El dataset ahora posee {} registros\".format(df_filtrado.shape[0]))"
      ],
      "execution_count": null,
      "outputs": [
        {
          "output_type": "stream",
          "text": [
            "El dataset ahora posee 86294 registros\n"
          ],
          "name": "stdout"
        }
      ]
    },
    {
      "cell_type": "code",
      "metadata": {
        "id": "0JdHuQbe62UU",
        "colab_type": "code",
        "colab": {
          "base_uri": "https://localhost:8080/",
          "height": 187
        },
        "outputId": "2d56b265-b0ed-4173-81c8-1f698e00418c"
      },
      "source": [
        "#se realiza de nuevo un conteo de los valores faltantes que tiene el dataset hasta el momento\n",
        "df_filtrado.isna().sum()"
      ],
      "execution_count": null,
      "outputs": [
        {
          "output_type": "execute_result",
          "data": {
            "text/plain": [
              "lat                    0\n",
              "lon                    0\n",
              "l3                     0\n",
              "rooms                  0\n",
              "bathrooms           2668\n",
              "surface_total      11421\n",
              "surface_covered    11667\n",
              "price                  0\n",
              "property_type          0\n",
              "dtype: int64"
            ]
          },
          "metadata": {
            "tags": []
          },
          "execution_count": 22
        }
      ]
    },
    {
      "cell_type": "markdown",
      "metadata": {
        "id": "ui33yzcc7im6",
        "colab_type": "text"
      },
      "source": [
        "**A continuacion se procede a realizar el procesamiento de filtrado de Outliers(valores atipicos) y la imputacion para valores Nulos que puede tener el dataset** \n",
        "\n",
        "**Cabe resaltar que se escoge de esta manera el orden de procesamiento ya que los datos pueden ser sensibles a variaciones en sus estadisticos si primero se imputan los valores nulos y luego se filtran los valores atipicos.**"
      ]
    },
    {
      "cell_type": "code",
      "metadata": {
        "id": "LR5MXc9BKwuD",
        "colab_type": "code",
        "colab": {
          "base_uri": "https://localhost:8080/",
          "height": 302
        },
        "outputId": "4a0a9685-9979-43a1-fa12-7411adabff98"
      },
      "source": [
        "#se realiza un grafico de boxplot para visualizar la distribucion de los valores atipicos en el precio de los inmuebles \n",
        "sns.boxplot(x=\"price\", data=df_filtrado)"
      ],
      "execution_count": null,
      "outputs": [
        {
          "output_type": "execute_result",
          "data": {
            "text/plain": [
              "<matplotlib.axes._subplots.AxesSubplot at 0x7fa0f34f2550>"
            ]
          },
          "metadata": {
            "tags": []
          },
          "execution_count": 23
        },
        {
          "output_type": "display_data",
          "data": {
            "image/png": "[encoded data removed]",
            "text/plain": [
              "<Figure size 432x288 with 1 Axes>"
            ]
          },
          "metadata": {
            "tags": []
          }
        }
      ]
    },
    {
      "cell_type": "markdown",
      "metadata": {
        "id": "gF20t0n7Loze",
        "colab_type": "text"
      },
      "source": [
        "**A continuacion se procede a limpiar el precio aplicando la tecnica del rango intercuartilico (IQR) para el filtrado de outliers(valores atipicos)**"
      ]
    },
    {
      "cell_type": "code",
      "metadata": {
        "id": "EX_S3_1ELF_Y",
        "colab_type": "code",
        "colab": {
          "base_uri": "https://localhost:8080/",
          "height": 170
        },
        "outputId": "de07e989-6176-4c36-c10b-3ad7adb515c3"
      },
      "source": [
        "#se hace una descripcion de los principales estadisticos para la columna de precio\n",
        "df_filtrado[\"price\"].describe()"
      ],
      "execution_count": null,
      "outputs": [
        {
          "output_type": "execute_result",
          "data": {
            "text/plain": [
              "count    8.629400e+04\n",
              "mean     2.292501e+05\n",
              "std      2.879827e+05\n",
              "min      6.000000e+03\n",
              "25%      1.085000e+05\n",
              "50%      1.600000e+05\n",
              "75%      2.600000e+05\n",
              "max      3.243423e+07\n",
              "Name: price, dtype: float64"
            ]
          },
          "metadata": {
            "tags": []
          },
          "execution_count": 24
        }
      ]
    },
    {
      "cell_type": "code",
      "metadata": {
        "id": "P9TZyLmwOurc",
        "colab_type": "code",
        "colab": {
          "base_uri": "https://localhost:8080/",
          "height": 34
        },
        "outputId": "7c76a1de-5c0d-4f8e-d6d4-e6e9c67b2fa7"
      },
      "source": [
        "#regla del rango intercuartilico (IQR)\n",
        "IQR=df_filtrado[\"price\"].quantile(0.75) - df_filtrado[\"price\"].quantile(0.25)\n",
        "IQR"
      ],
      "execution_count": null,
      "outputs": [
        {
          "output_type": "execute_result",
          "data": {
            "text/plain": [
              "151500.0"
            ]
          },
          "metadata": {
            "tags": []
          },
          "execution_count": 25
        }
      ]
    },
    {
      "cell_type": "code",
      "metadata": {
        "id": "r1cbMQiUO273",
        "colab_type": "code",
        "colab": {
          "base_uri": "https://localhost:8080/",
          "height": 51
        },
        "outputId": "834fb28a-1e7b-4889-a9bf-d95d64f726e6"
      },
      "source": [
        "minimo= 1.085000e+05 -(IQR*1.5)\n",
        "maximo= 2.600000e+05 +(IQR*1.5)\n",
        "print(minimo,\"\\n\",maximo)"
      ],
      "execution_count": null,
      "outputs": [
        {
          "output_type": "stream",
          "text": [
            "-118750.0 \n",
            " 487250.0\n"
          ],
          "name": "stdout"
        }
      ]
    },
    {
      "cell_type": "code",
      "metadata": {
        "id": "CCZwtMe6NQ7r",
        "colab_type": "code",
        "colab": {
          "base_uri": "https://localhost:8080/",
          "height": 289
        },
        "outputId": "56791522-25c3-4d44-cf16-cb3a28163b80"
      },
      "source": [
        "#En esta celda se realiza el filtro\n",
        "df_filtrado = df_filtrado[(df_filtrado.price > minimo) & (df_filtrado.price < maximo)]\n",
        "df_filtrado.info()"
      ],
      "execution_count": null,
      "outputs": [
        {
          "output_type": "stream",
          "text": [
            "<class 'pandas.core.frame.DataFrame'>\n",
            "Int64Index: 79874 entries, 0 to 146658\n",
            "Data columns (total 9 columns):\n",
            " #   Column           Non-Null Count  Dtype  \n",
            "---  ------           --------------  -----  \n",
            " 0   lat              79874 non-null  float64\n",
            " 1   lon              79874 non-null  float64\n",
            " 2   l3               79874 non-null  object \n",
            " 3   rooms            79874 non-null  float64\n",
            " 4   bathrooms        77345 non-null  float64\n",
            " 5   surface_total    69180 non-null  float64\n",
            " 6   surface_covered  68955 non-null  float64\n",
            " 7   price            79874 non-null  float64\n",
            " 8   property_type    79874 non-null  object \n",
            "dtypes: float64(7), object(2)\n",
            "memory usage: 6.1+ MB\n"
          ],
          "name": "stdout"
        }
      ]
    },
    {
      "cell_type": "code",
      "metadata": {
        "id": "ZGlusiGYN1wD",
        "colab_type": "code",
        "colab": {
          "base_uri": "https://localhost:8080/",
          "height": 313
        },
        "outputId": "c5d92067-7187-4862-faa1-1271fc23e435"
      },
      "source": [
        "#Esta celda muestra una distribucion de frecuencia de los precios despues del filtro de outliers\n",
        "sns.distplot(df_filtrado[\"price\"], hist=True, kde=True)"
      ],
      "execution_count": null,
      "outputs": [
        {
          "output_type": "execute_result",
          "data": {
            "text/plain": [
              "<matplotlib.axes._subplots.AxesSubplot at 0x7fa0f2fd84a8>"
            ]
          },
          "metadata": {
            "tags": []
          },
          "execution_count": 28
        },
        {
          "output_type": "display_data",
          "data": {
            "image/png": "[encoded data removed]",
            "text/plain": [
              "<Figure size 432x288 with 1 Axes>"
            ]
          },
          "metadata": {
            "tags": []
          }
        }
      ]
    },
    {
      "cell_type": "code",
      "metadata": {
        "id": "QqXUtDPtN5n6",
        "colab_type": "code",
        "colab": {
          "base_uri": "https://localhost:8080/",
          "height": 302
        },
        "outputId": "8e6d7f3a-1f97-40fd-b243-5f749b796c9e"
      },
      "source": [
        "#Esta celda muestra un boxplot de los precios despues del filtro de outliers\n",
        "sns.boxplot(x=\"price\", data=df_filtrado)"
      ],
      "execution_count": null,
      "outputs": [
        {
          "output_type": "execute_result",
          "data": {
            "text/plain": [
              "<matplotlib.axes._subplots.AxesSubplot at 0x7fa0f2e9d048>"
            ]
          },
          "metadata": {
            "tags": []
          },
          "execution_count": 29
        },
        {
          "output_type": "display_data",
          "data": {
            "image/png": "[encoded data removed]",
            "text/plain": [
              "<Figure size 432x288 with 1 Axes>"
            ]
          },
          "metadata": {
            "tags": []
          }
        }
      ]
    },
    {
      "cell_type": "markdown",
      "metadata": {
        "id": "QXQmOUxyQN6P",
        "colab_type": "text"
      },
      "source": [
        "***A continuacion se procede a realizar la imputacion o llenado de los valores nulos que presenta el dataframe ***"
      ]
    },
    {
      "cell_type": "code",
      "metadata": {
        "id": "5Cy0ajgrQEca",
        "colab_type": "code",
        "colab": {
          "base_uri": "https://localhost:8080/",
          "height": 187
        },
        "outputId": "7e86c2ab-aa8f-43c3-81e8-b88694e18978"
      },
      "source": [
        "# esta celda muestra el porcentaje de valores faltantes dentro del dataset\n",
        "porcentaje_nulos = df_filtrado.isna().mean().sort_values(ascending=False)*100\n",
        "print(porcentaje_nulos)"
      ],
      "execution_count": null,
      "outputs": [
        {
          "output_type": "stream",
          "text": [
            "surface_covered    13.670281\n",
            "surface_total      13.388587\n",
            "bathrooms           3.166237\n",
            "property_type       0.000000\n",
            "price               0.000000\n",
            "rooms               0.000000\n",
            "l3                  0.000000\n",
            "lon                 0.000000\n",
            "lat                 0.000000\n",
            "dtype: float64\n"
          ],
          "name": "stdout"
        }
      ]
    },
    {
      "cell_type": "markdown",
      "metadata": {
        "id": "cEIrMd26Vy30",
        "colab_type": "text"
      },
      "source": [
        "***considerando lo anterior, se procede a realizar la imputacion de las columnas con valores fatantes ***\n",
        "\n",
        "Para el caso de la superficie cubierta y total se llenan los valores nulos con la media de la columna y para el caso de los baños esta llena con la mediana de la columna "
      ]
    },
    {
      "cell_type": "code",
      "metadata": {
        "id": "zkE6ZuqQQr8S",
        "colab_type": "code",
        "colab": {
          "base_uri": "https://localhost:8080/",
          "height": 187
        },
        "outputId": "477f7039-3306-4e6f-b426-589757fbe484"
      },
      "source": [
        "#en esta celda se hace la imputacion de los valores faltantes utilizando la tecnica del SimpleImputer\n",
        "from sklearn.impute import SimpleImputer\n",
        "imp = SimpleImputer(strategy='mean', missing_values=np.nan)\n",
        "df_filtrado[['surface_total','surface_covered']] = imp.fit_transform(df_filtrado[['surface_total','surface_covered']])\n",
        "df_filtrado.isna().sum()"
      ],
      "execution_count": null,
      "outputs": [
        {
          "output_type": "execute_result",
          "data": {
            "text/plain": [
              "lat                   0\n",
              "lon                   0\n",
              "l3                    0\n",
              "rooms                 0\n",
              "bathrooms          2529\n",
              "surface_total         0\n",
              "surface_covered       0\n",
              "price                 0\n",
              "property_type         0\n",
              "dtype: int64"
            ]
          },
          "metadata": {
            "tags": []
          },
          "execution_count": 31
        }
      ]
    },
    {
      "cell_type": "code",
      "metadata": {
        "id": "v-LZgJuBYpAa",
        "colab_type": "code",
        "colab": {
          "base_uri": "https://localhost:8080/",
          "height": 187
        },
        "outputId": "9f6650fb-cfd0-4407-e5fa-c08e7e10106f"
      },
      "source": [
        "#en esta celda se hace la imputacion de los valores faltantes utilizando la tecnica del SimpleImputer\n",
        "imp = SimpleImputer(strategy='median', missing_values=np.nan)\n",
        "df_filtrado[\"bathrooms\"]=imp.fit_transform(df_filtrado[[\"bathrooms\"]])\n",
        "df_filtrado.isna().sum()"
      ],
      "execution_count": null,
      "outputs": [
        {
          "output_type": "execute_result",
          "data": {
            "text/plain": [
              "lat                0\n",
              "lon                0\n",
              "l3                 0\n",
              "rooms              0\n",
              "bathrooms          0\n",
              "surface_total      0\n",
              "surface_covered    0\n",
              "price              0\n",
              "property_type      0\n",
              "dtype: int64"
            ]
          },
          "metadata": {
            "tags": []
          },
          "execution_count": 32
        }
      ]
    },
    {
      "cell_type": "markdown",
      "metadata": {
        "id": "0LfhgCFZA-hI",
        "colab_type": "text"
      },
      "source": [
        "**Como se mencionó anteriormente, existe la necesidad de calcular una nueva variable que corresponde al precio por metro cuadrado de cada inmueble, esto con el fin de entregarle al modelo predictor variables que seran de utilidad para las futuras predicciones.**"
      ]
    },
    {
      "cell_type": "code",
      "metadata": {
        "id": "-amhDVfjAy6l",
        "colab_type": "code",
        "colab": {
          "base_uri": "https://localhost:8080/",
          "height": 142
        },
        "outputId": "21ba624f-87c9-4c3a-b33a-bd0f4b78923f"
      },
      "source": [
        "#en esta celda se calcula el precio por metro cuadrado para cada inmueble seleccionado\n",
        "def division(x, y):\n",
        "    if y > 0:\n",
        "        resultado = x / y\n",
        "    else:\n",
        "      resultado = 0\n",
        "\n",
        "    return resultado\n",
        "\n",
        "df_filtrado['price_per_m2'] = df_filtrado.apply(lambda x: division(x['price'], x['surface_total']), axis = 1)\n",
        "df_filtrado.head(3)"
      ],
      "execution_count": null,
      "outputs": [
        {
          "output_type": "execute_result",
          "data": {
            "text/html": [
              "<div>\n",
              "<style scoped>\n",
              "    .dataframe tbody tr th:only-of-type {\n",
              "        vertical-align: middle;\n",
              "    }\n",
              "\n",
              "    .dataframe tbody tr th {\n",
              "        vertical-align: top;\n",
              "    }\n",
              "\n",
              "    .dataframe thead th {\n",
              "        text-align: right;\n",
              "    }\n",
              "</style>\n",
              "<table border=\"1\" class=\"dataframe\">\n",
              "  <thead>\n",
              "    <tr style=\"text-align: right;\">\n",
              "      <th></th>\n",
              "      <th>lat</th>\n",
              "      <th>lon</th>\n",
              "      <th>l3</th>\n",
              "      <th>rooms</th>\n",
              "      <th>bathrooms</th>\n",
              "      <th>surface_total</th>\n",
              "      <th>surface_covered</th>\n",
              "      <th>price</th>\n",
              "      <th>property_type</th>\n",
              "      <th>price_per_m2</th>\n",
              "    </tr>\n",
              "  </thead>\n",
              "  <tbody>\n",
              "    <tr>\n",
              "      <th>0</th>\n",
              "      <td>-34.605880</td>\n",
              "      <td>-58.384949</td>\n",
              "      <td>San Cristobal</td>\n",
              "      <td>7.0</td>\n",
              "      <td>2.0</td>\n",
              "      <td>140.0</td>\n",
              "      <td>140.0</td>\n",
              "      <td>153000.0</td>\n",
              "      <td>Departamento</td>\n",
              "      <td>1092.857143</td>\n",
              "    </tr>\n",
              "    <tr>\n",
              "      <th>1</th>\n",
              "      <td>-34.624056</td>\n",
              "      <td>-58.412110</td>\n",
              "      <td>Boedo</td>\n",
              "      <td>2.0</td>\n",
              "      <td>2.0</td>\n",
              "      <td>70.0</td>\n",
              "      <td>58.0</td>\n",
              "      <td>159000.0</td>\n",
              "      <td>PH</td>\n",
              "      <td>2271.428571</td>\n",
              "    </tr>\n",
              "    <tr>\n",
              "      <th>3</th>\n",
              "      <td>-34.581294</td>\n",
              "      <td>-58.436754</td>\n",
              "      <td>Palermo</td>\n",
              "      <td>2.0</td>\n",
              "      <td>1.0</td>\n",
              "      <td>85.0</td>\n",
              "      <td>50.0</td>\n",
              "      <td>295000.0</td>\n",
              "      <td>PH</td>\n",
              "      <td>3470.588235</td>\n",
              "    </tr>\n",
              "  </tbody>\n",
              "</table>\n",
              "</div>"
            ],
            "text/plain": [
              "         lat        lon             l3  ...     price  property_type  price_per_m2\n",
              "0 -34.605880 -58.384949  San Cristobal  ...  153000.0   Departamento   1092.857143\n",
              "1 -34.624056 -58.412110          Boedo  ...  159000.0             PH   2271.428571\n",
              "3 -34.581294 -58.436754        Palermo  ...  295000.0             PH   3470.588235\n",
              "\n",
              "[3 rows x 10 columns]"
            ]
          },
          "metadata": {
            "tags": []
          },
          "execution_count": 33
        }
      ]
    },
    {
      "cell_type": "code",
      "metadata": {
        "id": "FPZlRYmBBJ0a",
        "colab_type": "code",
        "colab": {
          "base_uri": "https://localhost:8080/",
          "height": 204
        },
        "outputId": "f2aafa7a-fee7-440e-d386-3ea55faea6f3"
      },
      "source": [
        "#se realiza de nuevo un conteo de los valores faltantes que tiene el dataset hasta el momento\n",
        "df_filtrado.isna().sum()"
      ],
      "execution_count": null,
      "outputs": [
        {
          "output_type": "execute_result",
          "data": {
            "text/plain": [
              "lat                0\n",
              "lon                0\n",
              "l3                 0\n",
              "rooms              0\n",
              "bathrooms          0\n",
              "surface_total      0\n",
              "surface_covered    0\n",
              "price              0\n",
              "property_type      0\n",
              "price_per_m2       0\n",
              "dtype: int64"
            ]
          },
          "metadata": {
            "tags": []
          },
          "execution_count": 34
        }
      ]
    },
    {
      "cell_type": "markdown",
      "metadata": {
        "id": "aTbXiEySZ8SZ",
        "colab_type": "text"
      },
      "source": [
        "***Transformacion de los datos ***\n",
        "\n",
        "***A continuacion se procede a realizar una trasnformacion de las categorias del campo \"property_type\" y \"l3\" a variables numericas, utilizando la tecnica de OneHotEncoder ***"
      ]
    },
    {
      "cell_type": "code",
      "metadata": {
        "id": "rrhQzfPpBTwV",
        "colab_type": "code",
        "colab": {
          "base_uri": "https://localhost:8080/",
          "height": 34
        },
        "outputId": "93cf091c-9688-4c12-ff30-23051535d15a"
      },
      "source": [
        "#Transformacion para el campo \"property_type\"\n",
        "from sklearn.preprocessing import OneHotEncoder\n",
        "ohe=OneHotEncoder(sparse=False)\n",
        "ohe.fit(df_filtrado[[\"property_type\"]])\n",
        "ohe.categories_"
      ],
      "execution_count": null,
      "outputs": [
        {
          "output_type": "execute_result",
          "data": {
            "text/plain": [
              "[array(['Casa', 'Departamento', 'PH'], dtype=object)]"
            ]
          },
          "metadata": {
            "tags": []
          },
          "execution_count": 35
        }
      ]
    },
    {
      "cell_type": "code",
      "metadata": {
        "id": "9O1r-HD2BWgC",
        "colab_type": "code",
        "colab": {}
      },
      "source": [
        "categorias=ohe.fit_transform(df_filtrado[[\"property_type\"]])\n",
        "categorias=pd.DataFrame(categorias)"
      ],
      "execution_count": null,
      "outputs": []
    },
    {
      "cell_type": "code",
      "metadata": {
        "id": "_4KyfoODBYAC",
        "colab_type": "code",
        "colab": {
          "base_uri": "https://localhost:8080/",
          "height": 142
        },
        "outputId": "f2cc76b6-efb9-40b3-a1e3-d454bd80cb89"
      },
      "source": [
        "categorias.columns = ['Casa', 'Departamento', 'PH']\n",
        "categorias.head(3)"
      ],
      "execution_count": null,
      "outputs": [
        {
          "output_type": "execute_result",
          "data": {
            "text/html": [
              "<div>\n",
              "<style scoped>\n",
              "    .dataframe tbody tr th:only-of-type {\n",
              "        vertical-align: middle;\n",
              "    }\n",
              "\n",
              "    .dataframe tbody tr th {\n",
              "        vertical-align: top;\n",
              "    }\n",
              "\n",
              "    .dataframe thead th {\n",
              "        text-align: right;\n",
              "    }\n",
              "</style>\n",
              "<table border=\"1\" class=\"dataframe\">\n",
              "  <thead>\n",
              "    <tr style=\"text-align: right;\">\n",
              "      <th></th>\n",
              "      <th>Casa</th>\n",
              "      <th>Departamento</th>\n",
              "      <th>PH</th>\n",
              "    </tr>\n",
              "  </thead>\n",
              "  <tbody>\n",
              "    <tr>\n",
              "      <th>0</th>\n",
              "      <td>0.0</td>\n",
              "      <td>1.0</td>\n",
              "      <td>0.0</td>\n",
              "    </tr>\n",
              "    <tr>\n",
              "      <th>1</th>\n",
              "      <td>0.0</td>\n",
              "      <td>0.0</td>\n",
              "      <td>1.0</td>\n",
              "    </tr>\n",
              "    <tr>\n",
              "      <th>2</th>\n",
              "      <td>0.0</td>\n",
              "      <td>0.0</td>\n",
              "      <td>1.0</td>\n",
              "    </tr>\n",
              "  </tbody>\n",
              "</table>\n",
              "</div>"
            ],
            "text/plain": [
              "   Casa  Departamento   PH\n",
              "0   0.0           1.0  0.0\n",
              "1   0.0           0.0  1.0\n",
              "2   0.0           0.0  1.0"
            ]
          },
          "metadata": {
            "tags": []
          },
          "execution_count": 37
        }
      ]
    },
    {
      "cell_type": "code",
      "metadata": {
        "id": "Nkrjk7r0Bl5Z",
        "colab_type": "code",
        "colab": {
          "base_uri": "https://localhost:8080/",
          "height": 142
        },
        "outputId": "65064157-b365-4e2d-c194-0f0c526a4f70"
      },
      "source": [
        "#Se anexan las nuevas categorias al dataframe\n",
        "categorias = categorias.set_index(df_filtrado.index)\n",
        "df_filtrado = pd.concat([df_filtrado, categorias], axis=1)\n",
        "df_filtrado.head(3)"
      ],
      "execution_count": null,
      "outputs": [
        {
          "output_type": "execute_result",
          "data": {
            "text/html": [
              "<div>\n",
              "<style scoped>\n",
              "    .dataframe tbody tr th:only-of-type {\n",
              "        vertical-align: middle;\n",
              "    }\n",
              "\n",
              "    .dataframe tbody tr th {\n",
              "        vertical-align: top;\n",
              "    }\n",
              "\n",
              "    .dataframe thead th {\n",
              "        text-align: right;\n",
              "    }\n",
              "</style>\n",
              "<table border=\"1\" class=\"dataframe\">\n",
              "  <thead>\n",
              "    <tr style=\"text-align: right;\">\n",
              "      <th></th>\n",
              "      <th>lat</th>\n",
              "      <th>lon</th>\n",
              "      <th>l3</th>\n",
              "      <th>rooms</th>\n",
              "      <th>bathrooms</th>\n",
              "      <th>surface_total</th>\n",
              "      <th>surface_covered</th>\n",
              "      <th>price</th>\n",
              "      <th>property_type</th>\n",
              "      <th>price_per_m2</th>\n",
              "      <th>Casa</th>\n",
              "      <th>Departamento</th>\n",
              "      <th>PH</th>\n",
              "    </tr>\n",
              "  </thead>\n",
              "  <tbody>\n",
              "    <tr>\n",
              "      <th>0</th>\n",
              "      <td>-34.605880</td>\n",
              "      <td>-58.384949</td>\n",
              "      <td>San Cristobal</td>\n",
              "      <td>7.0</td>\n",
              "      <td>2.0</td>\n",
              "      <td>140.0</td>\n",
              "      <td>140.0</td>\n",
              "      <td>153000.0</td>\n",
              "      <td>Departamento</td>\n",
              "      <td>1092.857143</td>\n",
              "      <td>0.0</td>\n",
              "      <td>1.0</td>\n",
              "      <td>0.0</td>\n",
              "    </tr>\n",
              "    <tr>\n",
              "      <th>1</th>\n",
              "      <td>-34.624056</td>\n",
              "      <td>-58.412110</td>\n",
              "      <td>Boedo</td>\n",
              "      <td>2.0</td>\n",
              "      <td>2.0</td>\n",
              "      <td>70.0</td>\n",
              "      <td>58.0</td>\n",
              "      <td>159000.0</td>\n",
              "      <td>PH</td>\n",
              "      <td>2271.428571</td>\n",
              "      <td>0.0</td>\n",
              "      <td>0.0</td>\n",
              "      <td>1.0</td>\n",
              "    </tr>\n",
              "    <tr>\n",
              "      <th>3</th>\n",
              "      <td>-34.581294</td>\n",
              "      <td>-58.436754</td>\n",
              "      <td>Palermo</td>\n",
              "      <td>2.0</td>\n",
              "      <td>1.0</td>\n",
              "      <td>85.0</td>\n",
              "      <td>50.0</td>\n",
              "      <td>295000.0</td>\n",
              "      <td>PH</td>\n",
              "      <td>3470.588235</td>\n",
              "      <td>0.0</td>\n",
              "      <td>0.0</td>\n",
              "      <td>1.0</td>\n",
              "    </tr>\n",
              "  </tbody>\n",
              "</table>\n",
              "</div>"
            ],
            "text/plain": [
              "         lat        lon             l3  ...  Casa  Departamento   PH\n",
              "0 -34.605880 -58.384949  San Cristobal  ...   0.0           1.0  0.0\n",
              "1 -34.624056 -58.412110          Boedo  ...   0.0           0.0  1.0\n",
              "3 -34.581294 -58.436754        Palermo  ...   0.0           0.0  1.0\n",
              "\n",
              "[3 rows x 13 columns]"
            ]
          },
          "metadata": {
            "tags": []
          },
          "execution_count": 38
        }
      ]
    },
    {
      "cell_type": "code",
      "metadata": {
        "id": "heHACmG1E0rs",
        "colab_type": "code",
        "colab": {
          "base_uri": "https://localhost:8080/",
          "height": 391
        },
        "outputId": "2aa5559e-e19d-466b-bead-7380ab9a2543"
      },
      "source": [
        "#Transformacion para el campo \"l3\"\n",
        "ohe.fit(df_filtrado[[\"l3\"]])\n",
        "ohe.categories_"
      ],
      "execution_count": null,
      "outputs": [
        {
          "output_type": "execute_result",
          "data": {
            "text/plain": [
              "[array(['Abasto', 'Agronomía', 'Almagro', 'Almirante Brown', 'Avellaneda',\n",
              "        'Balvanera', 'Barracas', 'Barrio Norte', 'Belgrano', 'Berazategui',\n",
              "        'Boca', 'Boedo', 'Caballito', 'Catalinas', 'Cañuelas',\n",
              "        'Centro / Microcentro', 'Chacarita', 'Coghlan', 'Colegiales',\n",
              "        'Congreso', 'Constitución', 'Escobar', 'Esteban Echeverría',\n",
              "        'Ezeiza', 'Florencio Varela', 'Flores', 'Floresta',\n",
              "        'General Rodríguez', 'General San Martín', 'Hurlingham',\n",
              "        'Ituzaingó', 'José C Paz', 'La Matanza', 'La Plata', 'Lanús',\n",
              "        'Las Cañitas', 'Liniers', 'Lomas de Zamora', 'Malvinas Argentinas',\n",
              "        'Marcos Paz', 'Mataderos', 'Merlo', 'Monserrat', 'Monte Castro',\n",
              "        'Moreno', 'Morón', 'Nuñez', 'Once', 'Palermo', 'Parque Avellaneda',\n",
              "        'Parque Centenario', 'Parque Chacabuco', 'Parque Chas',\n",
              "        'Parque Patricios', 'Paternal', 'Pilar', 'Pompeya',\n",
              "        'Presidente Perón', 'Puerto Madero', 'Quilmes', 'Recoleta',\n",
              "        'Retiro', 'Saavedra', 'San Cristobal', 'San Fernando',\n",
              "        'San Isidro', 'San Miguel', 'San Nicolás', 'San Telmo',\n",
              "        'San Vicente', 'Tigre', 'Tres de Febrero', 'Tribunales',\n",
              "        'Velez Sarsfield', 'Versalles', 'Vicente López', 'Villa Crespo',\n",
              "        'Villa Devoto', 'Villa General Mitre', 'Villa Lugano',\n",
              "        'Villa Luro', 'Villa Ortuzar', 'Villa Pueyrredón', 'Villa Real',\n",
              "        'Villa Riachuelo', 'Villa Santa Rita', 'Villa Soldati',\n",
              "        'Villa Urquiza', 'Villa del Parque'], dtype=object)]"
            ]
          },
          "metadata": {
            "tags": []
          },
          "execution_count": 39
        }
      ]
    },
    {
      "cell_type": "code",
      "metadata": {
        "id": "dh-mV8XCBqoK",
        "colab_type": "code",
        "colab": {}
      },
      "source": [
        "categorias2=ohe.fit_transform(df_filtrado[[\"l3\"]])\n",
        "categorias2=pd.DataFrame(categorias2)\n",
        "categorias2.columns = ['Abasto', 'Agronomía', 'Almagro', 'Almirante Brown', 'Avellaneda',\n",
        "        'Balvanera', 'Barracas', 'Barrio Norte', 'Belgrano', 'Berazategui',\n",
        "        'Boca', 'Boedo', 'Caballito', 'Catalinas', 'Cañuelas',\n",
        "        'Centro / Microcentro', 'Chacarita', 'Coghlan', 'Colegiales',\n",
        "        'Congreso', 'Constitución', 'Escobar', 'Esteban Echeverría',\n",
        "        'Ezeiza', 'Florencio Varela', 'Flores', 'Floresta',\n",
        "        'General Rodríguez', 'General San Martín', 'Hurlingham',\n",
        "        'Ituzaingó', 'José C Paz', 'La Matanza', 'La Plata', 'Lanús',\n",
        "        'Las Cañitas', 'Liniers', 'Lomas de Zamora', 'Malvinas Argentinas',\n",
        "        'Marcos Paz', 'Mataderos', 'Merlo', 'Monserrat', 'Monte Castro',\n",
        "        'Moreno', 'Morón', 'Nuñez', 'Once', 'Palermo', 'Parque Avellaneda',\n",
        "        'Parque Centenario', 'Parque Chacabuco', 'Parque Chas',\n",
        "        'Parque Patricios', 'Paternal', 'Pilar', 'Pompeya',\n",
        "        'Presidente Perón', 'Puerto Madero', 'Quilmes', 'Recoleta',\n",
        "        'Retiro', 'Saavedra', 'San Cristobal', 'San Fernando',\n",
        "        'San Isidro', 'San Miguel', 'San Nicolás', 'San Telmo',\n",
        "        'San Vicente', 'Tigre', 'Tres de Febrero', 'Tribunales',\n",
        "        'Velez Sarsfield', 'Versalles', 'Vicente López', 'Villa Crespo',\n",
        "        'Villa Devoto', 'Villa General Mitre', 'Villa Lugano',\n",
        "        'Villa Luro', 'Villa Ortuzar', 'Villa Pueyrredón', 'Villa Real',\n",
        "        'Villa Riachuelo', 'Villa Santa Rita', 'Villa Soldati',\n",
        "        'Villa Urquiza', 'Villa del Parque']"
      ],
      "execution_count": null,
      "outputs": []
    },
    {
      "cell_type": "code",
      "metadata": {
        "id": "eC_3rn1vBtI6",
        "colab_type": "code",
        "colab": {
          "base_uri": "https://localhost:8080/",
          "height": 242
        },
        "outputId": "8f73ab9a-0778-49f6-ac53-811d8b048333"
      },
      "source": [
        "#Se anexan las nuevas categorias al dataframe\n",
        "categorias2 = categorias2.set_index(df_filtrado.index)\n",
        "df_filtrado = pd.concat([df_filtrado, categorias2], axis=1)\n",
        "df_filtrado.head(3)"
      ],
      "execution_count": null,
      "outputs": [
        {
          "output_type": "execute_result",
          "data": {
            "text/html": [
              "<div>\n",
              "<style scoped>\n",
              "    .dataframe tbody tr th:only-of-type {\n",
              "        vertical-align: middle;\n",
              "    }\n",
              "\n",
              "    .dataframe tbody tr th {\n",
              "        vertical-align: top;\n",
              "    }\n",
              "\n",
              "    .dataframe thead th {\n",
              "        text-align: right;\n",
              "    }\n",
              "</style>\n",
              "<table border=\"1\" class=\"dataframe\">\n",
              "  <thead>\n",
              "    <tr style=\"text-align: right;\">\n",
              "      <th></th>\n",
              "      <th>lat</th>\n",
              "      <th>lon</th>\n",
              "      <th>l3</th>\n",
              "      <th>rooms</th>\n",
              "      <th>bathrooms</th>\n",
              "      <th>surface_total</th>\n",
              "      <th>surface_covered</th>\n",
              "      <th>price</th>\n",
              "      <th>property_type</th>\n",
              "      <th>price_per_m2</th>\n",
              "      <th>Casa</th>\n",
              "      <th>Departamento</th>\n",
              "      <th>PH</th>\n",
              "      <th>Abasto</th>\n",
              "      <th>Agronomía</th>\n",
              "      <th>Almagro</th>\n",
              "      <th>Almirante Brown</th>\n",
              "      <th>Avellaneda</th>\n",
              "      <th>Balvanera</th>\n",
              "      <th>Barracas</th>\n",
              "      <th>Barrio Norte</th>\n",
              "      <th>Belgrano</th>\n",
              "      <th>Berazategui</th>\n",
              "      <th>Boca</th>\n",
              "      <th>Boedo</th>\n",
              "      <th>Caballito</th>\n",
              "      <th>Catalinas</th>\n",
              "      <th>Cañuelas</th>\n",
              "      <th>Centro / Microcentro</th>\n",
              "      <th>Chacarita</th>\n",
              "      <th>Coghlan</th>\n",
              "      <th>Colegiales</th>\n",
              "      <th>Congreso</th>\n",
              "      <th>Constitución</th>\n",
              "      <th>Escobar</th>\n",
              "      <th>Esteban Echeverría</th>\n",
              "      <th>Ezeiza</th>\n",
              "      <th>Florencio Varela</th>\n",
              "      <th>Flores</th>\n",
              "      <th>Floresta</th>\n",
              "      <th>...</th>\n",
              "      <th>Parque Avellaneda</th>\n",
              "      <th>Parque Centenario</th>\n",
              "      <th>Parque Chacabuco</th>\n",
              "      <th>Parque Chas</th>\n",
              "      <th>Parque Patricios</th>\n",
              "      <th>Paternal</th>\n",
              "      <th>Pilar</th>\n",
              "      <th>Pompeya</th>\n",
              "      <th>Presidente Perón</th>\n",
              "      <th>Puerto Madero</th>\n",
              "      <th>Quilmes</th>\n",
              "      <th>Recoleta</th>\n",
              "      <th>Retiro</th>\n",
              "      <th>Saavedra</th>\n",
              "      <th>San Cristobal</th>\n",
              "      <th>San Fernando</th>\n",
              "      <th>San Isidro</th>\n",
              "      <th>San Miguel</th>\n",
              "      <th>San Nicolás</th>\n",
              "      <th>San Telmo</th>\n",
              "      <th>San Vicente</th>\n",
              "      <th>Tigre</th>\n",
              "      <th>Tres de Febrero</th>\n",
              "      <th>Tribunales</th>\n",
              "      <th>Velez Sarsfield</th>\n",
              "      <th>Versalles</th>\n",
              "      <th>Vicente López</th>\n",
              "      <th>Villa Crespo</th>\n",
              "      <th>Villa Devoto</th>\n",
              "      <th>Villa General Mitre</th>\n",
              "      <th>Villa Lugano</th>\n",
              "      <th>Villa Luro</th>\n",
              "      <th>Villa Ortuzar</th>\n",
              "      <th>Villa Pueyrredón</th>\n",
              "      <th>Villa Real</th>\n",
              "      <th>Villa Riachuelo</th>\n",
              "      <th>Villa Santa Rita</th>\n",
              "      <th>Villa Soldati</th>\n",
              "      <th>Villa Urquiza</th>\n",
              "      <th>Villa del Parque</th>\n",
              "    </tr>\n",
              "  </thead>\n",
              "  <tbody>\n",
              "    <tr>\n",
              "      <th>0</th>\n",
              "      <td>-34.605880</td>\n",
              "      <td>-58.384949</td>\n",
              "      <td>San Cristobal</td>\n",
              "      <td>7.0</td>\n",
              "      <td>2.0</td>\n",
              "      <td>140.0</td>\n",
              "      <td>140.0</td>\n",
              "      <td>153000.0</td>\n",
              "      <td>Departamento</td>\n",
              "      <td>1092.857143</td>\n",
              "      <td>0.0</td>\n",
              "      <td>1.0</td>\n",
              "      <td>0.0</td>\n",
              "      <td>0.0</td>\n",
              "      <td>0.0</td>\n",
              "      <td>0.0</td>\n",
              "      <td>0.0</td>\n",
              "      <td>0.0</td>\n",
              "      <td>0.0</td>\n",
              "      <td>0.0</td>\n",
              "      <td>0.0</td>\n",
              "      <td>0.0</td>\n",
              "      <td>0.0</td>\n",
              "      <td>0.0</td>\n",
              "      <td>0.0</td>\n",
              "      <td>0.0</td>\n",
              "      <td>0.0</td>\n",
              "      <td>0.0</td>\n",
              "      <td>0.0</td>\n",
              "      <td>0.0</td>\n",
              "      <td>0.0</td>\n",
              "      <td>0.0</td>\n",
              "      <td>0.0</td>\n",
              "      <td>0.0</td>\n",
              "      <td>0.0</td>\n",
              "      <td>0.0</td>\n",
              "      <td>0.0</td>\n",
              "      <td>0.0</td>\n",
              "      <td>0.0</td>\n",
              "      <td>0.0</td>\n",
              "      <td>...</td>\n",
              "      <td>0.0</td>\n",
              "      <td>0.0</td>\n",
              "      <td>0.0</td>\n",
              "      <td>0.0</td>\n",
              "      <td>0.0</td>\n",
              "      <td>0.0</td>\n",
              "      <td>0.0</td>\n",
              "      <td>0.0</td>\n",
              "      <td>0.0</td>\n",
              "      <td>0.0</td>\n",
              "      <td>0.0</td>\n",
              "      <td>0.0</td>\n",
              "      <td>0.0</td>\n",
              "      <td>0.0</td>\n",
              "      <td>1.0</td>\n",
              "      <td>0.0</td>\n",
              "      <td>0.0</td>\n",
              "      <td>0.0</td>\n",
              "      <td>0.0</td>\n",
              "      <td>0.0</td>\n",
              "      <td>0.0</td>\n",
              "      <td>0.0</td>\n",
              "      <td>0.0</td>\n",
              "      <td>0.0</td>\n",
              "      <td>0.0</td>\n",
              "      <td>0.0</td>\n",
              "      <td>0.0</td>\n",
              "      <td>0.0</td>\n",
              "      <td>0.0</td>\n",
              "      <td>0.0</td>\n",
              "      <td>0.0</td>\n",
              "      <td>0.0</td>\n",
              "      <td>0.0</td>\n",
              "      <td>0.0</td>\n",
              "      <td>0.0</td>\n",
              "      <td>0.0</td>\n",
              "      <td>0.0</td>\n",
              "      <td>0.0</td>\n",
              "      <td>0.0</td>\n",
              "      <td>0.0</td>\n",
              "    </tr>\n",
              "    <tr>\n",
              "      <th>1</th>\n",
              "      <td>-34.624056</td>\n",
              "      <td>-58.412110</td>\n",
              "      <td>Boedo</td>\n",
              "      <td>2.0</td>\n",
              "      <td>2.0</td>\n",
              "      <td>70.0</td>\n",
              "      <td>58.0</td>\n",
              "      <td>159000.0</td>\n",
              "      <td>PH</td>\n",
              "      <td>2271.428571</td>\n",
              "      <td>0.0</td>\n",
              "      <td>0.0</td>\n",
              "      <td>1.0</td>\n",
              "      <td>0.0</td>\n",
              "      <td>0.0</td>\n",
              "      <td>0.0</td>\n",
              "      <td>0.0</td>\n",
              "      <td>0.0</td>\n",
              "      <td>0.0</td>\n",
              "      <td>0.0</td>\n",
              "      <td>0.0</td>\n",
              "      <td>0.0</td>\n",
              "      <td>0.0</td>\n",
              "      <td>0.0</td>\n",
              "      <td>1.0</td>\n",
              "      <td>0.0</td>\n",
              "      <td>0.0</td>\n",
              "      <td>0.0</td>\n",
              "      <td>0.0</td>\n",
              "      <td>0.0</td>\n",
              "      <td>0.0</td>\n",
              "      <td>0.0</td>\n",
              "      <td>0.0</td>\n",
              "      <td>0.0</td>\n",
              "      <td>0.0</td>\n",
              "      <td>0.0</td>\n",
              "      <td>0.0</td>\n",
              "      <td>0.0</td>\n",
              "      <td>0.0</td>\n",
              "      <td>0.0</td>\n",
              "      <td>...</td>\n",
              "      <td>0.0</td>\n",
              "      <td>0.0</td>\n",
              "      <td>0.0</td>\n",
              "      <td>0.0</td>\n",
              "      <td>0.0</td>\n",
              "      <td>0.0</td>\n",
              "      <td>0.0</td>\n",
              "      <td>0.0</td>\n",
              "      <td>0.0</td>\n",
              "      <td>0.0</td>\n",
              "      <td>0.0</td>\n",
              "      <td>0.0</td>\n",
              "      <td>0.0</td>\n",
              "      <td>0.0</td>\n",
              "      <td>0.0</td>\n",
              "      <td>0.0</td>\n",
              "      <td>0.0</td>\n",
              "      <td>0.0</td>\n",
              "      <td>0.0</td>\n",
              "      <td>0.0</td>\n",
              "      <td>0.0</td>\n",
              "      <td>0.0</td>\n",
              "      <td>0.0</td>\n",
              "      <td>0.0</td>\n",
              "      <td>0.0</td>\n",
              "      <td>0.0</td>\n",
              "      <td>0.0</td>\n",
              "      <td>0.0</td>\n",
              "      <td>0.0</td>\n",
              "      <td>0.0</td>\n",
              "      <td>0.0</td>\n",
              "      <td>0.0</td>\n",
              "      <td>0.0</td>\n",
              "      <td>0.0</td>\n",
              "      <td>0.0</td>\n",
              "      <td>0.0</td>\n",
              "      <td>0.0</td>\n",
              "      <td>0.0</td>\n",
              "      <td>0.0</td>\n",
              "      <td>0.0</td>\n",
              "    </tr>\n",
              "    <tr>\n",
              "      <th>3</th>\n",
              "      <td>-34.581294</td>\n",
              "      <td>-58.436754</td>\n",
              "      <td>Palermo</td>\n",
              "      <td>2.0</td>\n",
              "      <td>1.0</td>\n",
              "      <td>85.0</td>\n",
              "      <td>50.0</td>\n",
              "      <td>295000.0</td>\n",
              "      <td>PH</td>\n",
              "      <td>3470.588235</td>\n",
              "      <td>0.0</td>\n",
              "      <td>0.0</td>\n",
              "      <td>1.0</td>\n",
              "      <td>0.0</td>\n",
              "      <td>0.0</td>\n",
              "      <td>0.0</td>\n",
              "      <td>0.0</td>\n",
              "      <td>0.0</td>\n",
              "      <td>0.0</td>\n",
              "      <td>0.0</td>\n",
              "      <td>0.0</td>\n",
              "      <td>0.0</td>\n",
              "      <td>0.0</td>\n",
              "      <td>0.0</td>\n",
              "      <td>0.0</td>\n",
              "      <td>0.0</td>\n",
              "      <td>0.0</td>\n",
              "      <td>0.0</td>\n",
              "      <td>0.0</td>\n",
              "      <td>0.0</td>\n",
              "      <td>0.0</td>\n",
              "      <td>0.0</td>\n",
              "      <td>0.0</td>\n",
              "      <td>0.0</td>\n",
              "      <td>0.0</td>\n",
              "      <td>0.0</td>\n",
              "      <td>0.0</td>\n",
              "      <td>0.0</td>\n",
              "      <td>0.0</td>\n",
              "      <td>0.0</td>\n",
              "      <td>...</td>\n",
              "      <td>0.0</td>\n",
              "      <td>0.0</td>\n",
              "      <td>0.0</td>\n",
              "      <td>0.0</td>\n",
              "      <td>0.0</td>\n",
              "      <td>0.0</td>\n",
              "      <td>0.0</td>\n",
              "      <td>0.0</td>\n",
              "      <td>0.0</td>\n",
              "      <td>0.0</td>\n",
              "      <td>0.0</td>\n",
              "      <td>0.0</td>\n",
              "      <td>0.0</td>\n",
              "      <td>0.0</td>\n",
              "      <td>0.0</td>\n",
              "      <td>0.0</td>\n",
              "      <td>0.0</td>\n",
              "      <td>0.0</td>\n",
              "      <td>0.0</td>\n",
              "      <td>0.0</td>\n",
              "      <td>0.0</td>\n",
              "      <td>0.0</td>\n",
              "      <td>0.0</td>\n",
              "      <td>0.0</td>\n",
              "      <td>0.0</td>\n",
              "      <td>0.0</td>\n",
              "      <td>0.0</td>\n",
              "      <td>0.0</td>\n",
              "      <td>0.0</td>\n",
              "      <td>0.0</td>\n",
              "      <td>0.0</td>\n",
              "      <td>0.0</td>\n",
              "      <td>0.0</td>\n",
              "      <td>0.0</td>\n",
              "      <td>0.0</td>\n",
              "      <td>0.0</td>\n",
              "      <td>0.0</td>\n",
              "      <td>0.0</td>\n",
              "      <td>0.0</td>\n",
              "      <td>0.0</td>\n",
              "    </tr>\n",
              "  </tbody>\n",
              "</table>\n",
              "<p>3 rows × 102 columns</p>\n",
              "</div>"
            ],
            "text/plain": [
              "         lat        lon  ... Villa Urquiza  Villa del Parque\n",
              "0 -34.605880 -58.384949  ...           0.0               0.0\n",
              "1 -34.624056 -58.412110  ...           0.0               0.0\n",
              "3 -34.581294 -58.436754  ...           0.0               0.0\n",
              "\n",
              "[3 rows x 102 columns]"
            ]
          },
          "metadata": {
            "tags": []
          },
          "execution_count": 41
        }
      ]
    },
    {
      "cell_type": "code",
      "metadata": {
        "id": "m-C148opBu58",
        "colab_type": "code",
        "colab": {
          "base_uri": "https://localhost:8080/",
          "height": 225
        },
        "outputId": "dc171d16-171c-47e1-b071-8001df1fb61d"
      },
      "source": [
        "#se eliminan las categorias que ya son redundantes debido a la transformacion\n",
        "df_filtrado=df_filtrado.drop(columns=[\"property_type\", \"l3\"])\n",
        "df_filtrado.head(3)"
      ],
      "execution_count": null,
      "outputs": [
        {
          "output_type": "execute_result",
          "data": {
            "text/html": [
              "<div>\n",
              "<style scoped>\n",
              "    .dataframe tbody tr th:only-of-type {\n",
              "        vertical-align: middle;\n",
              "    }\n",
              "\n",
              "    .dataframe tbody tr th {\n",
              "        vertical-align: top;\n",
              "    }\n",
              "\n",
              "    .dataframe thead th {\n",
              "        text-align: right;\n",
              "    }\n",
              "</style>\n",
              "<table border=\"1\" class=\"dataframe\">\n",
              "  <thead>\n",
              "    <tr style=\"text-align: right;\">\n",
              "      <th></th>\n",
              "      <th>lat</th>\n",
              "      <th>lon</th>\n",
              "      <th>rooms</th>\n",
              "      <th>bathrooms</th>\n",
              "      <th>surface_total</th>\n",
              "      <th>surface_covered</th>\n",
              "      <th>price</th>\n",
              "      <th>price_per_m2</th>\n",
              "      <th>Casa</th>\n",
              "      <th>Departamento</th>\n",
              "      <th>PH</th>\n",
              "      <th>Abasto</th>\n",
              "      <th>Agronomía</th>\n",
              "      <th>Almagro</th>\n",
              "      <th>Almirante Brown</th>\n",
              "      <th>Avellaneda</th>\n",
              "      <th>Balvanera</th>\n",
              "      <th>Barracas</th>\n",
              "      <th>Barrio Norte</th>\n",
              "      <th>Belgrano</th>\n",
              "      <th>Berazategui</th>\n",
              "      <th>Boca</th>\n",
              "      <th>Boedo</th>\n",
              "      <th>Caballito</th>\n",
              "      <th>Catalinas</th>\n",
              "      <th>Cañuelas</th>\n",
              "      <th>Centro / Microcentro</th>\n",
              "      <th>Chacarita</th>\n",
              "      <th>Coghlan</th>\n",
              "      <th>Colegiales</th>\n",
              "      <th>Congreso</th>\n",
              "      <th>Constitución</th>\n",
              "      <th>Escobar</th>\n",
              "      <th>Esteban Echeverría</th>\n",
              "      <th>Ezeiza</th>\n",
              "      <th>Florencio Varela</th>\n",
              "      <th>Flores</th>\n",
              "      <th>Floresta</th>\n",
              "      <th>General Rodríguez</th>\n",
              "      <th>General San Martín</th>\n",
              "      <th>...</th>\n",
              "      <th>Parque Avellaneda</th>\n",
              "      <th>Parque Centenario</th>\n",
              "      <th>Parque Chacabuco</th>\n",
              "      <th>Parque Chas</th>\n",
              "      <th>Parque Patricios</th>\n",
              "      <th>Paternal</th>\n",
              "      <th>Pilar</th>\n",
              "      <th>Pompeya</th>\n",
              "      <th>Presidente Perón</th>\n",
              "      <th>Puerto Madero</th>\n",
              "      <th>Quilmes</th>\n",
              "      <th>Recoleta</th>\n",
              "      <th>Retiro</th>\n",
              "      <th>Saavedra</th>\n",
              "      <th>San Cristobal</th>\n",
              "      <th>San Fernando</th>\n",
              "      <th>San Isidro</th>\n",
              "      <th>San Miguel</th>\n",
              "      <th>San Nicolás</th>\n",
              "      <th>San Telmo</th>\n",
              "      <th>San Vicente</th>\n",
              "      <th>Tigre</th>\n",
              "      <th>Tres de Febrero</th>\n",
              "      <th>Tribunales</th>\n",
              "      <th>Velez Sarsfield</th>\n",
              "      <th>Versalles</th>\n",
              "      <th>Vicente López</th>\n",
              "      <th>Villa Crespo</th>\n",
              "      <th>Villa Devoto</th>\n",
              "      <th>Villa General Mitre</th>\n",
              "      <th>Villa Lugano</th>\n",
              "      <th>Villa Luro</th>\n",
              "      <th>Villa Ortuzar</th>\n",
              "      <th>Villa Pueyrredón</th>\n",
              "      <th>Villa Real</th>\n",
              "      <th>Villa Riachuelo</th>\n",
              "      <th>Villa Santa Rita</th>\n",
              "      <th>Villa Soldati</th>\n",
              "      <th>Villa Urquiza</th>\n",
              "      <th>Villa del Parque</th>\n",
              "    </tr>\n",
              "  </thead>\n",
              "  <tbody>\n",
              "    <tr>\n",
              "      <th>0</th>\n",
              "      <td>-34.605880</td>\n",
              "      <td>-58.384949</td>\n",
              "      <td>7.0</td>\n",
              "      <td>2.0</td>\n",
              "      <td>140.0</td>\n",
              "      <td>140.0</td>\n",
              "      <td>153000.0</td>\n",
              "      <td>1092.857143</td>\n",
              "      <td>0.0</td>\n",
              "      <td>1.0</td>\n",
              "      <td>0.0</td>\n",
              "      <td>0.0</td>\n",
              "      <td>0.0</td>\n",
              "      <td>0.0</td>\n",
              "      <td>0.0</td>\n",
              "      <td>0.0</td>\n",
              "      <td>0.0</td>\n",
              "      <td>0.0</td>\n",
              "      <td>0.0</td>\n",
              "      <td>0.0</td>\n",
              "      <td>0.0</td>\n",
              "      <td>0.0</td>\n",
              "      <td>0.0</td>\n",
              "      <td>0.0</td>\n",
              "      <td>0.0</td>\n",
              "      <td>0.0</td>\n",
              "      <td>0.0</td>\n",
              "      <td>0.0</td>\n",
              "      <td>0.0</td>\n",
              "      <td>0.0</td>\n",
              "      <td>0.0</td>\n",
              "      <td>0.0</td>\n",
              "      <td>0.0</td>\n",
              "      <td>0.0</td>\n",
              "      <td>0.0</td>\n",
              "      <td>0.0</td>\n",
              "      <td>0.0</td>\n",
              "      <td>0.0</td>\n",
              "      <td>0.0</td>\n",
              "      <td>0.0</td>\n",
              "      <td>...</td>\n",
              "      <td>0.0</td>\n",
              "      <td>0.0</td>\n",
              "      <td>0.0</td>\n",
              "      <td>0.0</td>\n",
              "      <td>0.0</td>\n",
              "      <td>0.0</td>\n",
              "      <td>0.0</td>\n",
              "      <td>0.0</td>\n",
              "      <td>0.0</td>\n",
              "      <td>0.0</td>\n",
              "      <td>0.0</td>\n",
              "      <td>0.0</td>\n",
              "      <td>0.0</td>\n",
              "      <td>0.0</td>\n",
              "      <td>1.0</td>\n",
              "      <td>0.0</td>\n",
              "      <td>0.0</td>\n",
              "      <td>0.0</td>\n",
              "      <td>0.0</td>\n",
              "      <td>0.0</td>\n",
              "      <td>0.0</td>\n",
              "      <td>0.0</td>\n",
              "      <td>0.0</td>\n",
              "      <td>0.0</td>\n",
              "      <td>0.0</td>\n",
              "      <td>0.0</td>\n",
              "      <td>0.0</td>\n",
              "      <td>0.0</td>\n",
              "      <td>0.0</td>\n",
              "      <td>0.0</td>\n",
              "      <td>0.0</td>\n",
              "      <td>0.0</td>\n",
              "      <td>0.0</td>\n",
              "      <td>0.0</td>\n",
              "      <td>0.0</td>\n",
              "      <td>0.0</td>\n",
              "      <td>0.0</td>\n",
              "      <td>0.0</td>\n",
              "      <td>0.0</td>\n",
              "      <td>0.0</td>\n",
              "    </tr>\n",
              "    <tr>\n",
              "      <th>1</th>\n",
              "      <td>-34.624056</td>\n",
              "      <td>-58.412110</td>\n",
              "      <td>2.0</td>\n",
              "      <td>2.0</td>\n",
              "      <td>70.0</td>\n",
              "      <td>58.0</td>\n",
              "      <td>159000.0</td>\n",
              "      <td>2271.428571</td>\n",
              "      <td>0.0</td>\n",
              "      <td>0.0</td>\n",
              "      <td>1.0</td>\n",
              "      <td>0.0</td>\n",
              "      <td>0.0</td>\n",
              "      <td>0.0</td>\n",
              "      <td>0.0</td>\n",
              "      <td>0.0</td>\n",
              "      <td>0.0</td>\n",
              "      <td>0.0</td>\n",
              "      <td>0.0</td>\n",
              "      <td>0.0</td>\n",
              "      <td>0.0</td>\n",
              "      <td>0.0</td>\n",
              "      <td>1.0</td>\n",
              "      <td>0.0</td>\n",
              "      <td>0.0</td>\n",
              "      <td>0.0</td>\n",
              "      <td>0.0</td>\n",
              "      <td>0.0</td>\n",
              "      <td>0.0</td>\n",
              "      <td>0.0</td>\n",
              "      <td>0.0</td>\n",
              "      <td>0.0</td>\n",
              "      <td>0.0</td>\n",
              "      <td>0.0</td>\n",
              "      <td>0.0</td>\n",
              "      <td>0.0</td>\n",
              "      <td>0.0</td>\n",
              "      <td>0.0</td>\n",
              "      <td>0.0</td>\n",
              "      <td>0.0</td>\n",
              "      <td>...</td>\n",
              "      <td>0.0</td>\n",
              "      <td>0.0</td>\n",
              "      <td>0.0</td>\n",
              "      <td>0.0</td>\n",
              "      <td>0.0</td>\n",
              "      <td>0.0</td>\n",
              "      <td>0.0</td>\n",
              "      <td>0.0</td>\n",
              "      <td>0.0</td>\n",
              "      <td>0.0</td>\n",
              "      <td>0.0</td>\n",
              "      <td>0.0</td>\n",
              "      <td>0.0</td>\n",
              "      <td>0.0</td>\n",
              "      <td>0.0</td>\n",
              "      <td>0.0</td>\n",
              "      <td>0.0</td>\n",
              "      <td>0.0</td>\n",
              "      <td>0.0</td>\n",
              "      <td>0.0</td>\n",
              "      <td>0.0</td>\n",
              "      <td>0.0</td>\n",
              "      <td>0.0</td>\n",
              "      <td>0.0</td>\n",
              "      <td>0.0</td>\n",
              "      <td>0.0</td>\n",
              "      <td>0.0</td>\n",
              "      <td>0.0</td>\n",
              "      <td>0.0</td>\n",
              "      <td>0.0</td>\n",
              "      <td>0.0</td>\n",
              "      <td>0.0</td>\n",
              "      <td>0.0</td>\n",
              "      <td>0.0</td>\n",
              "      <td>0.0</td>\n",
              "      <td>0.0</td>\n",
              "      <td>0.0</td>\n",
              "      <td>0.0</td>\n",
              "      <td>0.0</td>\n",
              "      <td>0.0</td>\n",
              "    </tr>\n",
              "    <tr>\n",
              "      <th>3</th>\n",
              "      <td>-34.581294</td>\n",
              "      <td>-58.436754</td>\n",
              "      <td>2.0</td>\n",
              "      <td>1.0</td>\n",
              "      <td>85.0</td>\n",
              "      <td>50.0</td>\n",
              "      <td>295000.0</td>\n",
              "      <td>3470.588235</td>\n",
              "      <td>0.0</td>\n",
              "      <td>0.0</td>\n",
              "      <td>1.0</td>\n",
              "      <td>0.0</td>\n",
              "      <td>0.0</td>\n",
              "      <td>0.0</td>\n",
              "      <td>0.0</td>\n",
              "      <td>0.0</td>\n",
              "      <td>0.0</td>\n",
              "      <td>0.0</td>\n",
              "      <td>0.0</td>\n",
              "      <td>0.0</td>\n",
              "      <td>0.0</td>\n",
              "      <td>0.0</td>\n",
              "      <td>0.0</td>\n",
              "      <td>0.0</td>\n",
              "      <td>0.0</td>\n",
              "      <td>0.0</td>\n",
              "      <td>0.0</td>\n",
              "      <td>0.0</td>\n",
              "      <td>0.0</td>\n",
              "      <td>0.0</td>\n",
              "      <td>0.0</td>\n",
              "      <td>0.0</td>\n",
              "      <td>0.0</td>\n",
              "      <td>0.0</td>\n",
              "      <td>0.0</td>\n",
              "      <td>0.0</td>\n",
              "      <td>0.0</td>\n",
              "      <td>0.0</td>\n",
              "      <td>0.0</td>\n",
              "      <td>0.0</td>\n",
              "      <td>...</td>\n",
              "      <td>0.0</td>\n",
              "      <td>0.0</td>\n",
              "      <td>0.0</td>\n",
              "      <td>0.0</td>\n",
              "      <td>0.0</td>\n",
              "      <td>0.0</td>\n",
              "      <td>0.0</td>\n",
              "      <td>0.0</td>\n",
              "      <td>0.0</td>\n",
              "      <td>0.0</td>\n",
              "      <td>0.0</td>\n",
              "      <td>0.0</td>\n",
              "      <td>0.0</td>\n",
              "      <td>0.0</td>\n",
              "      <td>0.0</td>\n",
              "      <td>0.0</td>\n",
              "      <td>0.0</td>\n",
              "      <td>0.0</td>\n",
              "      <td>0.0</td>\n",
              "      <td>0.0</td>\n",
              "      <td>0.0</td>\n",
              "      <td>0.0</td>\n",
              "      <td>0.0</td>\n",
              "      <td>0.0</td>\n",
              "      <td>0.0</td>\n",
              "      <td>0.0</td>\n",
              "      <td>0.0</td>\n",
              "      <td>0.0</td>\n",
              "      <td>0.0</td>\n",
              "      <td>0.0</td>\n",
              "      <td>0.0</td>\n",
              "      <td>0.0</td>\n",
              "      <td>0.0</td>\n",
              "      <td>0.0</td>\n",
              "      <td>0.0</td>\n",
              "      <td>0.0</td>\n",
              "      <td>0.0</td>\n",
              "      <td>0.0</td>\n",
              "      <td>0.0</td>\n",
              "      <td>0.0</td>\n",
              "    </tr>\n",
              "  </tbody>\n",
              "</table>\n",
              "<p>3 rows × 100 columns</p>\n",
              "</div>"
            ],
            "text/plain": [
              "         lat        lon  rooms  ...  Villa Soldati  Villa Urquiza  Villa del Parque\n",
              "0 -34.605880 -58.384949    7.0  ...            0.0            0.0               0.0\n",
              "1 -34.624056 -58.412110    2.0  ...            0.0            0.0               0.0\n",
              "3 -34.581294 -58.436754    2.0  ...            0.0            0.0               0.0\n",
              "\n",
              "[3 rows x 100 columns]"
            ]
          },
          "metadata": {
            "tags": []
          },
          "execution_count": 42
        }
      ]
    },
    {
      "cell_type": "markdown",
      "metadata": {
        "id": "X84hoYJnCEVE",
        "colab_type": "text"
      },
      "source": [
        "**A continuacion se separa el dataset en conjuntos de entrenamiento y testeo**"
      ]
    },
    {
      "cell_type": "code",
      "metadata": {
        "id": "ZKAcIKPQCFGi",
        "colab_type": "code",
        "colab": {}
      },
      "source": [
        "X = df_filtrado.drop(['price'], axis=1)\n",
        "y = df_filtrado['price']"
      ],
      "execution_count": null,
      "outputs": []
    },
    {
      "cell_type": "code",
      "metadata": {
        "id": "OzBNvUNJCG6z",
        "colab_type": "code",
        "colab": {
          "base_uri": "https://localhost:8080/",
          "height": 85
        },
        "outputId": "6d6f3c7e-0f19-4e55-945a-df0defaa4774"
      },
      "source": [
        "#se utiliza una separacion 80% para entrenamiento del modelo y 20% para la validacion del mismo\n",
        "from sklearn.model_selection import train_test_split\n",
        "X_train, X_test, y_train, y_test = train_test_split(X, y, test_size=0.2, random_state=42)\n",
        "print(X_train.shape, \"\\n\", y_train.shape, \"\\n\", X_test.shape, \"\\n\", y_test.shape)"
      ],
      "execution_count": null,
      "outputs": [
        {
          "output_type": "stream",
          "text": [
            "(63899, 99) \n",
            " (63899,) \n",
            " (15975, 99) \n",
            " (15975,)\n"
          ],
          "name": "stdout"
        }
      ]
    },
    {
      "cell_type": "markdown",
      "metadata": {
        "id": "pZjxDfWICPW1",
        "colab_type": "text"
      },
      "source": [
        "**Entrenamiento de los modelos y selecion de los mejores hiperparametros**"
      ]
    },
    {
      "cell_type": "markdown",
      "metadata": {
        "id": "zcfgcn-RvNAb",
        "colab_type": "text"
      },
      "source": [
        "**Para esta seccion y entendiendo que se trata de un problema de regresion para la prediccion de los precios de los inmuebles; es necesario basar la exactitud del comportamiento de los modelos utilizando 2 metricas que son importantes para este tipo de problema, las cuales son RMSE(root mean square error) y r2-score (coeficiente de determinacion).**"
      ]
    },
    {
      "cell_type": "markdown",
      "metadata": {
        "id": "Gj3q0A83CUE2",
        "colab_type": "text"
      },
      "source": [
        "**1) Modelo de Regresion lineal**"
      ]
    },
    {
      "cell_type": "code",
      "metadata": {
        "id": "n4ouelMhCKTz",
        "colab_type": "code",
        "colab": {}
      },
      "source": [
        "from sklearn.linear_model import LinearRegression\n",
        "from sklearn.metrics import mean_squared_error,r2_score"
      ],
      "execution_count": null,
      "outputs": []
    },
    {
      "cell_type": "code",
      "metadata": {
        "id": "TnUw3t1gCW6s",
        "colab_type": "code",
        "colab": {
          "base_uri": "https://localhost:8080/",
          "height": 34
        },
        "outputId": "ca138dd1-dfcb-4cd0-95dc-f8b296cd1530"
      },
      "source": [
        "linear=LinearRegression()\n",
        "linear.fit(X_train, y_train)"
      ],
      "execution_count": null,
      "outputs": [
        {
          "output_type": "execute_result",
          "data": {
            "text/plain": [
              "LinearRegression(copy_X=True, fit_intercept=True, n_jobs=None, normalize=False)"
            ]
          },
          "metadata": {
            "tags": []
          },
          "execution_count": 46
        }
      ]
    },
    {
      "cell_type": "code",
      "metadata": {
        "id": "pReX-nW8CYNS",
        "colab_type": "code",
        "colab": {}
      },
      "source": [
        "y_pred_train=linear.predict(X_train)\n",
        "y_pred_test=linear.predict(X_test)"
      ],
      "execution_count": null,
      "outputs": []
    },
    {
      "cell_type": "code",
      "metadata": {
        "id": "9cMO4lOfCbwr",
        "colab_type": "code",
        "colab": {
          "base_uri": "https://localhost:8080/",
          "height": 68
        },
        "outputId": "ff00827c-4986-4821-8835-f75874b514b9"
      },
      "source": [
        "#en esta celda se hace una evaluacion de las metricas para analizar el desempeño del modelo\n",
        "print(mean_squared_error(y_pred_test, y_test))\n",
        "print(\"El RMSE en Test es : \", np.sqrt(mean_squared_error(y_pred_test, y_test)))\n",
        "print(\"El r2-score en Test es : \", r2_score(y_pred_test, y_test))"
      ],
      "execution_count": null,
      "outputs": [
        {
          "output_type": "stream",
          "text": [
            "3691666681.1861973\n",
            "El RMSE en Test es :  60759.08723134505\n",
            "El r2-score en Test es :  0.3644376863714035\n"
          ],
          "name": "stdout"
        }
      ]
    },
    {
      "cell_type": "markdown",
      "metadata": {
        "id": "Facad7U0C2OC",
        "colab_type": "text"
      },
      "source": [
        "**2) Modelo Árboles de decisión**"
      ]
    },
    {
      "cell_type": "code",
      "metadata": {
        "id": "2R040kWsCwiH",
        "colab_type": "code",
        "colab": {}
      },
      "source": [
        "from sklearn.model_selection import GridSearchCV\n",
        "from sklearn.tree import DecisionTreeRegressor"
      ],
      "execution_count": null,
      "outputs": []
    },
    {
      "cell_type": "code",
      "metadata": {
        "id": "xugVk4U4C14I",
        "colab_type": "code",
        "colab": {}
      },
      "source": [
        "param_grid = [{\"min_samples_split\": [2, 10, 20], \"max_depth\": [None, 2, 5, 10, 15], \"min_samples_leaf\": [1, 5, 10, 15], \"max_leaf_nodes\": [None, 5, 10, 20]}]"
      ],
      "execution_count": null,
      "outputs": []
    },
    {
      "cell_type": "code",
      "metadata": {
        "id": "9Tp8XhMxC8dd",
        "colab_type": "code",
        "colab": {
          "base_uri": "https://localhost:8080/",
          "height": 323
        },
        "outputId": "309613c0-5740-43c0-9eed-583783db3e63"
      },
      "source": [
        "tree_reg = DecisionTreeRegressor(random_state=42)\n",
        "gs = GridSearchCV(tree_reg, param_grid, cv=5,\n",
        "                           scoring='neg_mean_squared_error', \n",
        "                           return_train_score=True, n_jobs=-1, refit=True)\n",
        "gs.fit(X_train, y_train)"
      ],
      "execution_count": null,
      "outputs": [
        {
          "output_type": "execute_result",
          "data": {
            "text/plain": [
              "GridSearchCV(cv=5, error_score=nan,\n",
              "             estimator=DecisionTreeRegressor(ccp_alpha=0.0, criterion='mse',\n",
              "                                             max_depth=None, max_features=None,\n",
              "                                             max_leaf_nodes=None,\n",
              "                                             min_impurity_decrease=0.0,\n",
              "                                             min_impurity_split=None,\n",
              "                                             min_samples_leaf=1,\n",
              "                                             min_samples_split=2,\n",
              "                                             min_weight_fraction_leaf=0.0,\n",
              "                                             presort='deprecated',\n",
              "                                             random_state=42, splitter='best'),\n",
              "             iid='deprecated', n_jobs=-1,\n",
              "             param_grid=[{'max_depth': [None, 2, 5, 10, 15],\n",
              "                          'max_leaf_nodes': [None, 5, 10, 20],\n",
              "                          'min_samples_leaf': [1, 5, 10, 15],\n",
              "                          'min_samples_split': [2, 10, 20]}],\n",
              "             pre_dispatch='2*n_jobs', refit=True, return_train_score=True,\n",
              "             scoring='neg_mean_squared_error', verbose=0)"
            ]
          },
          "metadata": {
            "tags": []
          },
          "execution_count": 51
        }
      ]
    },
    {
      "cell_type": "code",
      "metadata": {
        "id": "OI7WxTw2C_oE",
        "colab_type": "code",
        "colab": {
          "base_uri": "https://localhost:8080/",
          "height": 34
        },
        "outputId": "4fd8d041-f361-4f36-db57-870d73591db6"
      },
      "source": [
        "print(\"Los mejores hiperparametros son:\", gs.best_params_)"
      ],
      "execution_count": null,
      "outputs": [
        {
          "output_type": "stream",
          "text": [
            "Los mejores hiperparametros son: {'max_depth': None, 'max_leaf_nodes': None, 'min_samples_leaf': 1, 'min_samples_split': 2}\n"
          ],
          "name": "stdout"
        }
      ]
    },
    {
      "cell_type": "code",
      "metadata": {
        "id": "cQI7HWUYDCbT",
        "colab_type": "code",
        "colab": {}
      },
      "source": [
        "optimised_decision_tree = gs.best_estimator_"
      ],
      "execution_count": null,
      "outputs": []
    },
    {
      "cell_type": "code",
      "metadata": {
        "id": "ZC5d_Vs7DD78",
        "colab_type": "code",
        "colab": {
          "base_uri": "https://localhost:8080/",
          "height": 34
        },
        "outputId": "fd526f75-6cff-437d-d158-21762965df98"
      },
      "source": [
        "y_opt_pred = optimised_decision_tree.predict(X_test)\n",
        "rmse = np.sqrt(mean_squared_error(y_test, y_opt_pred))\n",
        "print(\"El RMSE en Test es : \", np.round(rmse))"
      ],
      "execution_count": null,
      "outputs": [
        {
          "output_type": "stream",
          "text": [
            "El RMSE en Test es :  7769.0\n"
          ],
          "name": "stdout"
        }
      ]
    },
    {
      "cell_type": "code",
      "metadata": {
        "id": "p-ITvsCNDFfn",
        "colab_type": "code",
        "colab": {
          "base_uri": "https://localhost:8080/",
          "height": 34
        },
        "outputId": "807dc2e9-5cf7-4f1b-b215-a537149b5238"
      },
      "source": [
        "print(\"El r2-score en Test es : \", r2_score(y_opt_pred, y_test))"
      ],
      "execution_count": null,
      "outputs": [
        {
          "output_type": "stream",
          "text": [
            "El r2-score en Test es :  0.993708807098916\n"
          ],
          "name": "stdout"
        }
      ]
    },
    {
      "cell_type": "markdown",
      "metadata": {
        "id": "7QBy2gdByIuC",
        "colab_type": "text"
      },
      "source": [
        "**A continuacion se realiza una comparativa de los valores reales para el precio de los inmuebles, con los predichos por el modelo**"
      ]
    },
    {
      "cell_type": "code",
      "metadata": {
        "id": "Rbsh-EdeDIKm",
        "colab_type": "code",
        "colab": {}
      },
      "source": [
        "val_real = pd.Series(y_test.values)\n",
        "val_pred = pd.Series(y_opt_pred)"
      ],
      "execution_count": null,
      "outputs": []
    },
    {
      "cell_type": "code",
      "metadata": {
        "id": "_apcnlriDKqH",
        "colab_type": "code",
        "colab": {}
      },
      "source": [
        "predicciones = pd.concat([val_real.rename('Valor real'),val_pred.rename('Valor Pred') ,abs(val_real-val_pred).rename('Dif(+/-)')] , axis=1)"
      ],
      "execution_count": null,
      "outputs": []
    },
    {
      "cell_type": "code",
      "metadata": {
        "id": "QLVDh5xqDMMk",
        "colab_type": "code",
        "colab": {
          "base_uri": "https://localhost:8080/",
          "height": 359
        },
        "outputId": "77113cc6-01b0-482a-98c9-fc6fbb9c2416"
      },
      "source": [
        "predicciones.head(10)"
      ],
      "execution_count": null,
      "outputs": [
        {
          "output_type": "execute_result",
          "data": {
            "text/html": [
              "<div>\n",
              "<style scoped>\n",
              "    .dataframe tbody tr th:only-of-type {\n",
              "        vertical-align: middle;\n",
              "    }\n",
              "\n",
              "    .dataframe tbody tr th {\n",
              "        vertical-align: top;\n",
              "    }\n",
              "\n",
              "    .dataframe thead th {\n",
              "        text-align: right;\n",
              "    }\n",
              "</style>\n",
              "<table border=\"1\" class=\"dataframe\">\n",
              "  <thead>\n",
              "    <tr style=\"text-align: right;\">\n",
              "      <th></th>\n",
              "      <th>Valor real</th>\n",
              "      <th>Valor Pred</th>\n",
              "      <th>Dif(+/-)</th>\n",
              "    </tr>\n",
              "  </thead>\n",
              "  <tbody>\n",
              "    <tr>\n",
              "      <th>0</th>\n",
              "      <td>170000.0</td>\n",
              "      <td>170000.0</td>\n",
              "      <td>0.0</td>\n",
              "    </tr>\n",
              "    <tr>\n",
              "      <th>1</th>\n",
              "      <td>165000.0</td>\n",
              "      <td>165000.0</td>\n",
              "      <td>0.0</td>\n",
              "    </tr>\n",
              "    <tr>\n",
              "      <th>2</th>\n",
              "      <td>110000.0</td>\n",
              "      <td>105000.0</td>\n",
              "      <td>5000.0</td>\n",
              "    </tr>\n",
              "    <tr>\n",
              "      <th>3</th>\n",
              "      <td>212000.0</td>\n",
              "      <td>209000.0</td>\n",
              "      <td>3000.0</td>\n",
              "    </tr>\n",
              "    <tr>\n",
              "      <th>4</th>\n",
              "      <td>179000.0</td>\n",
              "      <td>179000.0</td>\n",
              "      <td>0.0</td>\n",
              "    </tr>\n",
              "    <tr>\n",
              "      <th>5</th>\n",
              "      <td>220000.0</td>\n",
              "      <td>220000.0</td>\n",
              "      <td>0.0</td>\n",
              "    </tr>\n",
              "    <tr>\n",
              "      <th>6</th>\n",
              "      <td>349000.0</td>\n",
              "      <td>340000.0</td>\n",
              "      <td>9000.0</td>\n",
              "    </tr>\n",
              "    <tr>\n",
              "      <th>7</th>\n",
              "      <td>430000.0</td>\n",
              "      <td>430000.0</td>\n",
              "      <td>0.0</td>\n",
              "    </tr>\n",
              "    <tr>\n",
              "      <th>8</th>\n",
              "      <td>203900.0</td>\n",
              "      <td>203900.0</td>\n",
              "      <td>0.0</td>\n",
              "    </tr>\n",
              "    <tr>\n",
              "      <th>9</th>\n",
              "      <td>190000.0</td>\n",
              "      <td>205000.0</td>\n",
              "      <td>15000.0</td>\n",
              "    </tr>\n",
              "  </tbody>\n",
              "</table>\n",
              "</div>"
            ],
            "text/plain": [
              "   Valor real  Valor Pred  Dif(+/-)\n",
              "0    170000.0    170000.0       0.0\n",
              "1    165000.0    165000.0       0.0\n",
              "2    110000.0    105000.0    5000.0\n",
              "3    212000.0    209000.0    3000.0\n",
              "4    179000.0    179000.0       0.0\n",
              "5    220000.0    220000.0       0.0\n",
              "6    349000.0    340000.0    9000.0\n",
              "7    430000.0    430000.0       0.0\n",
              "8    203900.0    203900.0       0.0\n",
              "9    190000.0    205000.0   15000.0"
            ]
          },
          "metadata": {
            "tags": []
          },
          "execution_count": 58
        }
      ]
    },
    {
      "cell_type": "markdown",
      "metadata": {
        "id": "qPupzlnNGst-",
        "colab_type": "text"
      },
      "source": [
        "**3) Modelo de KNN (k-vecinos mas cercanos)**"
      ]
    },
    {
      "cell_type": "code",
      "metadata": {
        "id": "Bac86QlOGwS7",
        "colab_type": "code",
        "colab": {}
      },
      "source": [
        "from sklearn.neighbors import KNeighborsRegressor\n",
        "knn = KNeighborsRegressor()\n",
        "k = np.arange(5, 30)\n",
        "param_grid = {\"n_neighbors\" : k}"
      ],
      "execution_count": null,
      "outputs": []
    },
    {
      "cell_type": "code",
      "metadata": {
        "id": "Iih7T_NRGyG1",
        "colab_type": "code",
        "colab": {
          "base_uri": "https://localhost:8080/",
          "height": 204
        },
        "outputId": "4fd531d5-a1e4-44f1-b886-68f3c4ef341f"
      },
      "source": [
        "gs2 = GridSearchCV(knn, param_grid, n_jobs = -1, scoring='neg_mean_squared_error', return_train_score = True, cv = 5, refit = True)\n",
        "gs2.fit(X_train, y_train)"
      ],
      "execution_count": null,
      "outputs": [
        {
          "output_type": "execute_result",
          "data": {
            "text/plain": [
              "GridSearchCV(cv=5, error_score=nan,\n",
              "             estimator=KNeighborsRegressor(algorithm='auto', leaf_size=30,\n",
              "                                           metric='minkowski',\n",
              "                                           metric_params=None, n_jobs=None,\n",
              "                                           n_neighbors=5, p=2,\n",
              "                                           weights='uniform'),\n",
              "             iid='deprecated', n_jobs=-1,\n",
              "             param_grid={'n_neighbors': array([ 5,  6,  7,  8,  9, 10, 11, 12, 13, 14, 15, 16, 17, 18, 19, 20, 21,\n",
              "       22, 23, 24, 25, 26, 27, 28, 29])},\n",
              "             pre_dispatch='2*n_jobs', refit=True, return_train_score=True,\n",
              "             scoring='neg_mean_squared_error', verbose=0)"
            ]
          },
          "metadata": {
            "tags": []
          },
          "execution_count": 60
        }
      ]
    },
    {
      "cell_type": "code",
      "metadata": {
        "id": "qwa7v39XGz7C",
        "colab_type": "code",
        "colab": {
          "base_uri": "https://localhost:8080/",
          "height": 34
        },
        "outputId": "16493365-a96f-4a92-df61-f48805f98083"
      },
      "source": [
        "print(\"Los mejores hiperparametros son:\", gs2.best_params_)"
      ],
      "execution_count": null,
      "outputs": [
        {
          "output_type": "stream",
          "text": [
            "Los mejores hiperparametros son: {'n_neighbors': 5}\n"
          ],
          "name": "stdout"
        }
      ]
    },
    {
      "cell_type": "code",
      "metadata": {
        "id": "zs-zzUB0G1dC",
        "colab_type": "code",
        "colab": {}
      },
      "source": [
        "optimised_knn = gs2.best_estimator_"
      ],
      "execution_count": null,
      "outputs": []
    },
    {
      "cell_type": "code",
      "metadata": {
        "id": "p5BVWzakG2wr",
        "colab_type": "code",
        "colab": {
          "base_uri": "https://localhost:8080/",
          "height": 34
        },
        "outputId": "31fcc101-e9f1-4dbb-c7b5-e2d83f6d9103"
      },
      "source": [
        "y_opt_pred2 = optimised_knn.predict(X_test)\n",
        "rmse = np.sqrt(mean_squared_error(y_test, y_opt_pred2))\n",
        "print(\"El RMSE en Test es : \", np.round(rmse))"
      ],
      "execution_count": null,
      "outputs": [
        {
          "output_type": "stream",
          "text": [
            "El RMSE en Test es :  10839.0\n"
          ],
          "name": "stdout"
        }
      ]
    },
    {
      "cell_type": "code",
      "metadata": {
        "id": "fM_pO-V7G4O6",
        "colab_type": "code",
        "colab": {
          "base_uri": "https://localhost:8080/",
          "height": 34
        },
        "outputId": "4a71030f-37ec-4ae2-de6d-fad3922ee440"
      },
      "source": [
        "print(\"El r2-score en Test es : \", r2_score(y_opt_pred2, y_test))"
      ],
      "execution_count": null,
      "outputs": [
        {
          "output_type": "stream",
          "text": [
            "El r2-score en Test es :  0.9874263632452728\n"
          ],
          "name": "stdout"
        }
      ]
    },
    {
      "cell_type": "markdown",
      "metadata": {
        "id": "3l7THUShxxvq",
        "colab_type": "text"
      },
      "source": [
        "**A continuacion se realiza una comparativa de los valores reales para el precio de los inmuebles, con los predichos por el modelo**"
      ]
    },
    {
      "cell_type": "code",
      "metadata": {
        "id": "pm8G2KIiG6LI",
        "colab_type": "code",
        "colab": {}
      },
      "source": [
        "val_real = pd.Series(y_test.values)\n",
        "val_pred_knn = pd.Series(y_opt_pred2)"
      ],
      "execution_count": null,
      "outputs": []
    },
    {
      "cell_type": "code",
      "metadata": {
        "id": "GDtXMBxKG780",
        "colab_type": "code",
        "colab": {}
      },
      "source": [
        "predicciones2 = pd.concat([val_real.rename('Valor real'),val_pred_knn.rename('Valor Pred') ,abs(val_real-val_pred_knn).rename('Dif(+/-)')] , axis=1)"
      ],
      "execution_count": null,
      "outputs": []
    },
    {
      "cell_type": "code",
      "metadata": {
        "id": "dmPLCWwBG9il",
        "colab_type": "code",
        "colab": {
          "base_uri": "https://localhost:8080/",
          "height": 359
        },
        "outputId": "6b564bca-dacc-4104-a6bd-4e7691dec0b9"
      },
      "source": [
        "predicciones2.head(10)"
      ],
      "execution_count": null,
      "outputs": [
        {
          "output_type": "execute_result",
          "data": {
            "text/html": [
              "<div>\n",
              "<style scoped>\n",
              "    .dataframe tbody tr th:only-of-type {\n",
              "        vertical-align: middle;\n",
              "    }\n",
              "\n",
              "    .dataframe tbody tr th {\n",
              "        vertical-align: top;\n",
              "    }\n",
              "\n",
              "    .dataframe thead th {\n",
              "        text-align: right;\n",
              "    }\n",
              "</style>\n",
              "<table border=\"1\" class=\"dataframe\">\n",
              "  <thead>\n",
              "    <tr style=\"text-align: right;\">\n",
              "      <th></th>\n",
              "      <th>Valor real</th>\n",
              "      <th>Valor Pred</th>\n",
              "      <th>Dif(+/-)</th>\n",
              "    </tr>\n",
              "  </thead>\n",
              "  <tbody>\n",
              "    <tr>\n",
              "      <th>0</th>\n",
              "      <td>170000.0</td>\n",
              "      <td>173000.0</td>\n",
              "      <td>3000.0</td>\n",
              "    </tr>\n",
              "    <tr>\n",
              "      <th>1</th>\n",
              "      <td>165000.0</td>\n",
              "      <td>158600.0</td>\n",
              "      <td>6400.0</td>\n",
              "    </tr>\n",
              "    <tr>\n",
              "      <th>2</th>\n",
              "      <td>110000.0</td>\n",
              "      <td>109800.0</td>\n",
              "      <td>200.0</td>\n",
              "    </tr>\n",
              "    <tr>\n",
              "      <th>3</th>\n",
              "      <td>212000.0</td>\n",
              "      <td>213998.0</td>\n",
              "      <td>1998.0</td>\n",
              "    </tr>\n",
              "    <tr>\n",
              "      <th>4</th>\n",
              "      <td>179000.0</td>\n",
              "      <td>179000.0</td>\n",
              "      <td>0.0</td>\n",
              "    </tr>\n",
              "    <tr>\n",
              "      <th>5</th>\n",
              "      <td>220000.0</td>\n",
              "      <td>216200.0</td>\n",
              "      <td>3800.0</td>\n",
              "    </tr>\n",
              "    <tr>\n",
              "      <th>6</th>\n",
              "      <td>349000.0</td>\n",
              "      <td>326092.2</td>\n",
              "      <td>22907.8</td>\n",
              "    </tr>\n",
              "    <tr>\n",
              "      <th>7</th>\n",
              "      <td>430000.0</td>\n",
              "      <td>425000.0</td>\n",
              "      <td>5000.0</td>\n",
              "    </tr>\n",
              "    <tr>\n",
              "      <th>8</th>\n",
              "      <td>203900.0</td>\n",
              "      <td>204340.0</td>\n",
              "      <td>440.0</td>\n",
              "    </tr>\n",
              "    <tr>\n",
              "      <th>9</th>\n",
              "      <td>190000.0</td>\n",
              "      <td>188860.0</td>\n",
              "      <td>1140.0</td>\n",
              "    </tr>\n",
              "  </tbody>\n",
              "</table>\n",
              "</div>"
            ],
            "text/plain": [
              "   Valor real  Valor Pred  Dif(+/-)\n",
              "0    170000.0    173000.0    3000.0\n",
              "1    165000.0    158600.0    6400.0\n",
              "2    110000.0    109800.0     200.0\n",
              "3    212000.0    213998.0    1998.0\n",
              "4    179000.0    179000.0       0.0\n",
              "5    220000.0    216200.0    3800.0\n",
              "6    349000.0    326092.2   22907.8\n",
              "7    430000.0    425000.0    5000.0\n",
              "8    203900.0    204340.0     440.0\n",
              "9    190000.0    188860.0    1140.0"
            ]
          },
          "metadata": {
            "tags": []
          },
          "execution_count": 67
        }
      ]
    },
    {
      "cell_type": "code",
      "metadata": {
        "id": "ngpULxG3AvcL",
        "colab_type": "code",
        "colab": {}
      },
      "source": [
        "#esta celda se utiliza para exportar el dataset procesado\n",
        "df.to_csv(\"/content/drive/My Drive/Colab Notebooks/Dataset_final.csv\", header=True, index=False)"
      ],
      "execution_count": null,
      "outputs": []
    },
    {
      "cell_type": "markdown",
      "metadata": {
        "id": "q17VbnO37B1y",
        "colab_type": "text"
      },
      "source": [
        "**Finalmente y considerando lo anterior, se concluye que los modelos con mejor desempeño fueron el KNN y el Árbol de decisión, siendo este ultimo el que mejor desempeño tuvo en las prediciones del precio para un inmueble en particular. Otorgando un mejor resultado en las metricas de evaluacion con un RMSE cercano al valor real y un r2_score de 0.99 o del 99% en la precisión.**"
      ]
    },
    {
      "cell_type": "markdown",
      "metadata": {
        "id": "93kJUNAdKhz7",
        "colab_type": "text"
      },
      "source": [
        "# 3. Desafio\n",
        "En el dataset provisto hay mucha información, más allá del problema planteado. Propone una pregunta que pueda ser respondida por el dataset e intenta responderla.¿Cuáles son los sesgos de la respuesta obtenida?(¿Cuán generalizable es la respuesta obtenida?)¿Necesitas información complementaria?¿Cómo la obtendrías?\n",
        "\n",
        "Por ejemplo: ¿Cuál es el barrio más caro de Buenos Aires? Probablemente puedas responder esta pregunta con este dataset. Pero podria ocurrir que la respuesta esté sesgada. ¿Cómo? Tal vez las propiedades más caras no se publican de forma online, sino que utilizan otro canal de venta."
      ]
    },
    {
      "cell_type": "markdown",
      "metadata": {
        "id": "xEfRQY9UQNad",
        "colab_type": "text"
      },
      "source": [
        "**Solución al desafío**\n",
        "\n",
        "**Para este desafio se propone la siguiente pregunta, la cual se pretende responder con la informacion contenida en el dataset.**\n",
        "\n",
        "**Pregunta: ¿Cual es el tipo de inmueble mas caro en la ciudad?**"
      ]
    },
    {
      "cell_type": "code",
      "metadata": {
        "id": "tf_8EveHQN1W",
        "colab_type": "code",
        "colab": {
          "base_uri": "https://localhost:8080/",
          "height": 142
        },
        "outputId": "0192d4da-8f06-452a-a6a0-27c9485d3778"
      },
      "source": [
        "#en esta celda se visualiza el dataset para responder la pregunta \n",
        "df=df_filtrado.copy()\n",
        "df.head(3)"
      ],
      "execution_count": null,
      "outputs": [
        {
          "output_type": "execute_result",
          "data": {
            "text/html": [
              "<div>\n",
              "<style scoped>\n",
              "    .dataframe tbody tr th:only-of-type {\n",
              "        vertical-align: middle;\n",
              "    }\n",
              "\n",
              "    .dataframe tbody tr th {\n",
              "        vertical-align: top;\n",
              "    }\n",
              "\n",
              "    .dataframe thead th {\n",
              "        text-align: right;\n",
              "    }\n",
              "</style>\n",
              "<table border=\"1\" class=\"dataframe\">\n",
              "  <thead>\n",
              "    <tr style=\"text-align: right;\">\n",
              "      <th></th>\n",
              "      <th>lat</th>\n",
              "      <th>lon</th>\n",
              "      <th>l3</th>\n",
              "      <th>rooms</th>\n",
              "      <th>bathrooms</th>\n",
              "      <th>surface_total</th>\n",
              "      <th>surface_covered</th>\n",
              "      <th>price</th>\n",
              "      <th>property_type</th>\n",
              "      <th>price_per_m2</th>\n",
              "    </tr>\n",
              "  </thead>\n",
              "  <tbody>\n",
              "    <tr>\n",
              "      <th>0</th>\n",
              "      <td>-34.605880</td>\n",
              "      <td>-58.384949</td>\n",
              "      <td>San Cristobal</td>\n",
              "      <td>7.0</td>\n",
              "      <td>2.0</td>\n",
              "      <td>140.0</td>\n",
              "      <td>140.0</td>\n",
              "      <td>153000.0</td>\n",
              "      <td>Departamento</td>\n",
              "      <td>1092.857143</td>\n",
              "    </tr>\n",
              "    <tr>\n",
              "      <th>1</th>\n",
              "      <td>-34.624056</td>\n",
              "      <td>-58.412110</td>\n",
              "      <td>Boedo</td>\n",
              "      <td>2.0</td>\n",
              "      <td>2.0</td>\n",
              "      <td>70.0</td>\n",
              "      <td>58.0</td>\n",
              "      <td>159000.0</td>\n",
              "      <td>PH</td>\n",
              "      <td>2271.428571</td>\n",
              "    </tr>\n",
              "    <tr>\n",
              "      <th>3</th>\n",
              "      <td>-34.581294</td>\n",
              "      <td>-58.436754</td>\n",
              "      <td>Palermo</td>\n",
              "      <td>2.0</td>\n",
              "      <td>1.0</td>\n",
              "      <td>85.0</td>\n",
              "      <td>50.0</td>\n",
              "      <td>295000.0</td>\n",
              "      <td>PH</td>\n",
              "      <td>3470.588235</td>\n",
              "    </tr>\n",
              "  </tbody>\n",
              "</table>\n",
              "</div>"
            ],
            "text/plain": [
              "         lat        lon             l3  ...     price  property_type  price_per_m2\n",
              "0 -34.605880 -58.384949  San Cristobal  ...  153000.0   Departamento   1092.857143\n",
              "1 -34.624056 -58.412110          Boedo  ...  159000.0             PH   2271.428571\n",
              "3 -34.581294 -58.436754        Palermo  ...  295000.0             PH   3470.588235\n",
              "\n",
              "[3 rows x 10 columns]"
            ]
          },
          "metadata": {
            "tags": []
          },
          "execution_count": 35
        }
      ]
    },
    {
      "cell_type": "code",
      "metadata": {
        "id": "5I0jQSmFY5Kv",
        "colab_type": "code",
        "colab": {
          "base_uri": "https://localhost:8080/",
          "height": 85
        },
        "outputId": "d791b048-967a-4ff4-8484-69590bf6fade"
      },
      "source": [
        "#en esta celda se realiza un conteo de la categoria de interes\n",
        "df.property_type.value_counts()"
      ],
      "execution_count": null,
      "outputs": [
        {
          "output_type": "execute_result",
          "data": {
            "text/plain": [
              "Departamento    53351\n",
              "Casa            16707\n",
              "PH               9816\n",
              "Name: property_type, dtype: int64"
            ]
          },
          "metadata": {
            "tags": []
          },
          "execution_count": 36
        }
      ]
    },
    {
      "cell_type": "code",
      "metadata": {
        "id": "ZUeDTasSZUvo",
        "colab_type": "code",
        "colab": {
          "base_uri": "https://localhost:8080/",
          "height": 285
        },
        "outputId": "db05d276-8f4b-43b1-a4da-2c30178b5ea2"
      },
      "source": [
        "#en esta celda se representa graficamente la distribucion los inmuebles segun su precio por m2\n",
        "tipo_inmueble = df.groupby('property_type').mean().sort_values('price_per_m2', ascending=False).index\n",
        "plt.xticks\n",
        "sns.barplot(x=\"property_type\", y=\"price_per_m2\", order=tipo_inmueble, data=df);"
      ],
      "execution_count": null,
      "outputs": [
        {
          "output_type": "display_data",
          "data": {
            "image/png": "[encoded data removed]",
            "text/plain": [
              "<Figure size 432x288 with 1 Axes>"
            ]
          },
          "metadata": {
            "tags": []
          }
        }
      ]
    },
    {
      "cell_type": "markdown",
      "metadata": {
        "id": "mM3N11iych5n",
        "colab_type": "text"
      },
      "source": [
        "**Segun lo anterior nos podemos dar cuenta que el tipo de inmueble mas caro en la ciudad corresponden a \"Departamento\". Esta respuesta seguro se encuentra sesgada debido al desbalanceo de los datos en el campo \"property_type\", los cuales estan mas inclinados hacia la cantidad de Departamentos**\n",
        "\n",
        "**Para poder solucionar este sesgo se requiere de mas informacion correspondiente a las categorias de \"PH\" y \"Casa\", con el fin de balancear mas las etiquetas seleccionadas. Dicha informacion se podria obtener de portales en internet haciendo \"Scraping\" o consultando bases de datos de otras inmobiliarias o pagando por la informacion**\n",
        "\n",
        "**Otra forma de balancear los datos seria aplicar tecnicas de balanceo como \"SMOTE\", \"Resample\" o eliminar cierta cantidad de registros pertenecientes a la clase predominante**"
      ]
    },
    {
      "cell_type": "markdown",
      "metadata": {
        "id": "aGI8rcVnKhz7",
        "colab_type": "text"
      },
      "source": [
        "# 4. Arquitectura de datos\n",
        "Envíanos en un documento aparte, cual es la arquitectura computacional qué deberías crear para poder mostrarle a un potencial cliente el precio de la propiedad"
      ]
    }
  ]
}